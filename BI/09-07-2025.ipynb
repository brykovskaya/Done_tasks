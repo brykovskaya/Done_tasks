{
 "cells": [
  {
   "attachments": {},
   "cell_type": "markdown",
   "id": "6d26f880-6606-44f0-8cbf-e35af673a135",
   "metadata": {},
   "source": [
    "Во [вложении]() выгрузка данных из яндекс-формы.\n",
    "\n",
    "Задача, провести исследование.\n",
    "\n",
    "Ответ + код лучше в колабе или * ipynb , или дашборды\n",
    " \n",
    "\n",
    "Пример, как мы это сейчас визуализировали один из вопросов и отображение ответов:\n",
    "\n",
    "![](images/image002.jpg)<br>\n",
    "![](images/image003.jpg)<br>"
   ]
  },
  {
   "cell_type": "code",
   "execution_count": 19,
   "id": "b03ffe03-a23a-4e25-a966-dde850df844f",
   "metadata": {},
   "outputs": [],
   "source": [
    "import matplotlib.pyplot as plt\n",
    "import numpy as np\n",
    "import pandas as pd\n",
    "import seaborn as sns\n",
    "\n",
    "from urllib.request import urlopen\n",
    "import json\n",
    "import plotly.express as px"
   ]
  },
  {
   "cell_type": "markdown",
   "id": "0dcc054a-13fd-43f6-a5ce-e4c753c24f11",
   "metadata": {},
   "source": [
    "# Знакомство с данными"
   ]
  },
  {
   "cell_type": "code",
   "execution_count": 3,
   "id": "12fd4f49-45be-4272-98de-ad6da87fef16",
   "metadata": {
    "scrolled": true
   },
   "outputs": [
    {
     "data": {
      "text/html": [
       "<div>\n",
       "<style scoped>\n",
       "    .dataframe tbody tr th:only-of-type {\n",
       "        vertical-align: middle;\n",
       "    }\n",
       "\n",
       "    .dataframe tbody tr th {\n",
       "        vertical-align: top;\n",
       "    }\n",
       "\n",
       "    .dataframe thead th {\n",
       "        text-align: right;\n",
       "    }\n",
       "</style>\n",
       "<table border=\"1\" class=\"dataframe\">\n",
       "  <thead>\n",
       "    <tr style=\"text-align: right;\">\n",
       "      <th></th>\n",
       "      <th>30</th>\n",
       "    </tr>\n",
       "  </thead>\n",
       "  <tbody>\n",
       "    <tr>\n",
       "      <th>ID</th>\n",
       "      <td>NaN</td>\n",
       "    </tr>\n",
       "    <tr>\n",
       "      <th>Время создания</th>\n",
       "      <td>NaN</td>\n",
       "    </tr>\n",
       "    <tr>\n",
       "      <th>Наименование организации:</th>\n",
       "      <td>ООО \"Альфа Телеком Стандарт\"</td>\n",
       "    </tr>\n",
       "    <tr>\n",
       "      <th>Регион</th>\n",
       "      <td>Республика Татарстан (Татарстан)</td>\n",
       "    </tr>\n",
       "    <tr>\n",
       "      <th>Город</th>\n",
       "      <td>Набережные Челны</td>\n",
       "    </tr>\n",
       "    <tr>\n",
       "      <th>...</th>\n",
       "      <td>...</td>\n",
       "    </tr>\n",
       "    <tr>\n",
       "      <th>Какие геоинформационные операции могут быть наиболее востребованы и были бы полезны в вашей деятельности: / Создание анимаций. Визуализация динамики процессов (пример 1: распространение пожара; пример 2: рост города за 50 лет).</th>\n",
       "      <td>NaN</td>\n",
       "    </tr>\n",
       "    <tr>\n",
       "      <th>Какие геоинформационные операции могут быть наиболее востребованы и были бы полезны в вашей деятельности: / Иное</th>\n",
       "      <td>NaN</td>\n",
       "    </tr>\n",
       "    <tr>\n",
       "      <th>Иные геоинформационные операции, которые востребованы в вашей деятельности</th>\n",
       "      <td>NaN</td>\n",
       "    </tr>\n",
       "    <tr>\n",
       "      <th>Укажите идеи для геоинформационных сервисов и решений (включающие карты, пространственные данные, геоаналитику)  под задачи, которые могли быть востребованы организацией:</th>\n",
       "      <td>NaN</td>\n",
       "    </tr>\n",
       "    <tr>\n",
       "      <th>Готовы ли Вы ответить на несколько вопросов в рамках онлайн - интервью?</th>\n",
       "      <td>Нет</td>\n",
       "    </tr>\n",
       "  </tbody>\n",
       "</table>\n",
       "<p>179 rows × 1 columns</p>\n",
       "</div>"
      ],
      "text/plain": [
       "                                                                                  30\n",
       "ID                                                                               NaN\n",
       "Время создания                                                                   NaN\n",
       "Наименование организации:                               ООО \"Альфа Телеком Стандарт\"\n",
       "Регион                                              Республика Татарстан (Татарстан)\n",
       "Город                                                               Набережные Челны\n",
       "...                                                                              ...\n",
       "Какие геоинформационные операции могут быть наи...                               NaN\n",
       "Какие геоинформационные операции могут быть наи...                               NaN\n",
       "Иные геоинформационные операции, которые востре...                               NaN\n",
       "Укажите идеи для геоинформационных сервисов и р...                               NaN\n",
       "Готовы ли Вы ответить на несколько вопросов в р...                               Нет\n",
       "\n",
       "[179 rows x 1 columns]"
      ]
     },
     "execution_count": 3,
     "metadata": {},
     "output_type": "execute_result"
    }
   ],
   "source": [
    "# путь к файлу\n",
    "file_path='files/2025.06.23.15.00test.xlsx'\n",
    "# записываем в датафрейм файл\n",
    "data= pd.read_excel(file_path)\n",
    "# смотрим на случайную строку\n",
    "data.sample(n=1, random_state=42).T"
   ]
  },
  {
   "cell_type": "markdown",
   "id": "137fd011-fc52-452e-9fef-5f17ca519d40",
   "metadata": {},
   "source": [
    "Первично можно сказать, что датасет содержит информацию опросника организаций с указанием региона и города. Полей много и смотреть их в виде таблицы или графика в исходном виде будет неудобно. "
   ]
  },
  {
   "cell_type": "code",
   "execution_count": 4,
   "id": "7c1f7cae-6e3f-4c7b-83c0-8767a60214a1",
   "metadata": {},
   "outputs": [
    {
     "name": "stdout",
     "output_type": "stream",
     "text": [
      "Датасет содержит: 80 строк, 179 столбцов\n"
     ]
    }
   ],
   "source": [
    "# Выводим информацию о размере датафрейма\n",
    "print(f\"Датасет содержит: {len(data)} строк, \\\n",
    "{data.shape[1]} столбцов\")\n"
   ]
  },
  {
   "cell_type": "code",
   "execution_count": 5,
   "id": "00c87803-7241-4d29-94fa-20e7b73d34d2",
   "metadata": {},
   "outputs": [
    {
     "data": {
      "text/plain": [
       "object     164\n",
       "float64     15\n",
       "Name: count, dtype: int64"
      ]
     },
     "execution_count": 5,
     "metadata": {},
     "output_type": "execute_result"
    }
   ],
   "source": [
    "#столбцов с определенным типом данных в датафрейме\n",
    "data.dtypes.value_counts()"
   ]
  },
  {
   "cell_type": "markdown",
   "id": "e9858866-c105-43f1-99b8-ea8014e1ac20",
   "metadata": {},
   "source": [
    "Датасет содержит два типа данных: строки (object) и числовой (float64) Это означает, что данные содержат строки, а также либо число с плавающей точкой либо пропуски. При первом взгляде для полей `ID`тип данных обычно целочисленный/строковый, \t`Время создания` - datetime/time.\n",
    "\n",
    "Посмотрим на пропуски."
   ]
  },
  {
   "cell_type": "code",
   "execution_count": 6,
   "id": "ae07bf63-7f3d-42e9-9d0a-98ae3449effb",
   "metadata": {},
   "outputs": [
    {
     "name": "stdout",
     "output_type": "stream",
     "text": [
      "Всего датасет содержит 9274 пропусков.\n",
      "=========================================\n",
      "Медианное количество пропусков в каждом из 179 столбцов: 64 или  80 % \n",
      "=========================================\n",
      "Cтолбцы без пропусков:\n",
      "1. Наименование организации:\n",
      "2. Регион\n",
      "3. Город\n",
      "4. Знаете ли вы о запрете использования зарубежных геоинформационных технологий органами государственной власти с 1 января 2026 года, согласно Федеральному закону от 30.12.2015 № 431-ФЗ ‎«О геодезии, картографии и пространственных данных и о внесении изменений ‎в отдельные законодательные акты Российской Федерации»\n",
      "5. Знали ли вы о существовании такого продукта прежде?\n",
      "6. Готовы ли Вы ответить на несколько вопросов в рамках онлайн - интервью?\n"
     ]
    }
   ],
   "source": [
    "print(f\"Всего датасет содержит {data.isnull().values.sum()} пропусков.\\n\\\n",
    "=========================================\")\n",
    "print('Медианное количество пропусков в каждом из',\n",
    "data.shape[1], 'столбцов:', \n",
    "int(data.isna().sum().median()), 'или ', \n",
    "round((data.isna().sum().median() / len(data)) * 100), '% \\n\\\n",
    "=========================================')\n",
    "print('Cтолбцы без пропусков:')\n",
    "# процент нулевых значений\n",
    "cnt_full_col = 0\n",
    "for col in data.columns:\n",
    "    pct_missing = np.mean(data[col].isnull())\n",
    "    if pct_missing == 0:\n",
    "        cnt_full_col +=1\n",
    "        print(\"{}. {}\".format(cnt_full_col, col))"
   ]
  },
  {
   "cell_type": "code",
   "execution_count": 7,
   "id": "45a8f0a1-77ad-4fe2-8a13-3ee902e81d09",
   "metadata": {},
   "outputs": [
    {
     "name": "stdout",
     "output_type": "stream",
     "text": [
      "Cтолбцы со 100% пропусками:\n",
      "=========================================\n",
      "1. ID\n",
      "2. Время создания\n",
      "3. Отрасль/сфера деятельности: / Торговля и общественное питание\n",
      "4. Отрасль/сфера деятельности: / Материально-техническое снабжение и сбыт\n",
      "5. Отрасль/сфера деятельности: / Заготовки\n",
      "6. Отрасль/сфера деятельности: / Общая коммерческая деятельность по обеспечению функционирования рынка\n",
      "7. Отрасль/сфера деятельности: / Непроизводственные виды бытового обслуживания населения\n",
      "8. Отрасль/сфера деятельности: / Финансы, кредит, страхование, пенсионное обеспечение\n",
      "9. Отрасль/сфера деятельности: / Общественные объединения\n",
      "10. Вид организации: / федеральный орган исполнительной власти (или его подразделение)\n",
      "11. Вид организации: / орган исполнительной власти субъекта Российской Федерации (или его подразделение)\n",
      "12. Респондент (сотрудник организации, заполнивший форму), ФИО:\n",
      "13. Должность респондента  (сотрудника организации, заполнившего форму):\n",
      "14. Контактный электронный адрес организации:\n",
      "15. Контактный телефон организации:\n"
     ]
    }
   ],
   "source": [
    "print('Cтолбцы со 100% пропусками:\\n\\\n",
    "=========================================')\n",
    "cnt_null_col = 0\n",
    "for col in data.columns:\n",
    "    pct_missing = np.mean(data[col].isnull())\n",
    "    if pct_missing == 1:\n",
    "        cnt_null_col += 1\n",
    "        print('{}. {}'.format(cnt_null_col, col))"
   ]
  },
  {
   "cell_type": "markdown",
   "id": "5177b175-7110-44a7-9902-47074113510c",
   "metadata": {},
   "source": [
    "Данные об `ID`  и  `Время создания ` отсутствуют, с большой долей вероятности это из-за предоставления для публичного просмотра. Такие же причины могут быть и у других столбцов со 100% пропусками.\n",
    "\n",
    "На пропусках не будем заострять фокус по причине большого количества полей с ними. Просто  отмечаем этот факт, как требующий дополнительного исследования причин пропусков. Дополнительно отметим, что эти пропуски могут быть как естественными/нормальными, так и сигналом к поиску их причины.\n",
    "\n",
    "Проверить на наличие явных дубликатов без ключевого поля `ID` для компаний нельзя. Посмотрим есть ли совпадения по трем полям, в которых нет пропусков:\n",
    " - `Наименование организации: `\n",
    " - `Регион `  \n",
    " - `Город  ` "
   ]
  },
  {
   "cell_type": "code",
   "execution_count": 8,
   "id": "e7eda102-69c4-4b03-bf6a-e7905a1f13d9",
   "metadata": {},
   "outputs": [
    {
     "name": "stdout",
     "output_type": "stream",
     "text": [
      "Количество дубликатов по полям 'Наименование организации:', 'Регион', 'Город': 0 шт.\n"
     ]
    }
   ],
   "source": [
    "#посчитаем  дубликаты по конкретным полям\n",
    "print(f\"Количество дубликатов по полям \\\n",
    "'Наименование организации:', 'Регион', 'Город': \\\n",
    "{data[['Наименование организации:', 'Регион', 'Город']].\n",
    "duplicated().sum()} шт.\")"
   ]
  },
  {
   "cell_type": "code",
   "execution_count": 9,
   "id": "f72366ce-59f7-44cc-9bca-4bf258431a56",
   "metadata": {},
   "outputs": [],
   "source": [
    "# list(data.columns)"
   ]
  },
  {
   "cell_type": "markdown",
   "id": "dd3936a7-96ee-448f-8955-148c6614b277",
   "metadata": {},
   "source": [
    "Посчитаем уникальные значения в столбцах некоторых полей и посмотрим на уникальные значения одного полей.\n"
   ]
  },
  {
   "cell_type": "code",
   "execution_count": 10,
   "id": "8397ea11-6d70-4d0e-85d9-3faa6a0f6b91",
   "metadata": {},
   "outputs": [
    {
     "name": "stdout",
     "output_type": "stream",
     "text": [
      "Уникальных значений:\n",
      "79 в столбце: \"Наименование организации:\"\n",
      "29 в столбце: \"Регион\"\n",
      "57 в столбце: \"Город\"\n"
     ]
    }
   ],
   "source": [
    "col_list = ['Наименование организации:', \n",
    "            'Регион', \n",
    "            'Город']\n",
    "# Проверяем количество уникальные значения в столбцах всего датафрейма\n",
    "print('Уникальных значений:')\n",
    "for column in data[col_list]:\n",
    "    print(f'{data[column].nunique()} в столбце: \"{column}\"')\n"
   ]
  },
  {
   "cell_type": "code",
   "execution_count": 11,
   "id": "551e9d33-d7a6-4dd1-8ff2-7f14f6bad590",
   "metadata": {},
   "outputs": [
    {
     "data": {
      "text/plain": [
       "array([nan, 'Проектирование и изыскания', 'Частная организация',\n",
       "       'пенсионер с огромным опытом работ и знаниями за пределами действующих регламентов в технологиях завтрашнего дня.С опытом работ и преподавания геоинформационных дисциплин вв 12ти странах мира. с долгами по неоплате заказчиков - победителей госконтрактов.',\n",
       "       'Федеральное государственное бюджетное учреждение науки',\n",
       "       'Коммерческая организация', 'Коммерческая частная компания',\n",
       "       'Инженерные изыскания',\n",
       "       'Общество с ограниченной ответственностью ',\n",
       "       'Разработка компьютерного программного обеспечения',\n",
       "       'Проектирование и осуществление функций технического заказчика',\n",
       "       'Индивидуальный Предприниматель',\n",
       "       'Общество с ограниченной ответственностью',\n",
       "       'Индивидуальный предприниматель',\n",
       "       'Электромонтажные работы и обслуживание систем противопожарной безопасности',\n",
       "       'Общество с ограниченной ответственностью.', 'Стьроительство',\n",
       "       'частная собственность',\n",
       "       'ОБЩЕСТВО С ОГРАНИЧЕННОЙ ОТВЕТСТВЕННОСТЬЮ ', 'Юридическое лицо ',\n",
       "       'Юридическое лицо', 'Водоснабжение города', 'Строительство жилья',\n",
       "       'производство металлоконструкций, вт.ч. установок очистки сточных вод, производство тепла для нужд предприятия',\n",
       "       'Строительство автомобильных дорог и автомагистралей',\n",
       "       'Металлургия',\n",
       "       '35.30.1 Производство пара и горячей воды (тепловой энергии), \\n35.12 Передача электроэнергии и технологическое присоединение к распределительным электросетям\\n',\n",
       "       'Строительство', 'инспекционная и экспертная деятельность',\n",
       "       'Юр.лицо',\n",
       "       'архитектурно-градостроительная деятельность, кадастровая деятельность, геодезическая деятельность',\n",
       "       'Монтаж и эксплуатация инженерных сетей',\n",
       "       'индивидуальный предприниматель', 'ИП Трухавая А. А. ',\n",
       "       'Кадастр, строительство, геодезия',\n",
       "       'Муниципальное унитарное производственное предприятие', 'ООО',\n",
       "       'Частная собственность',\n",
       "       'Маркшейдерские услуги, Топографо-геодезические изыскания',\n",
       "       'инженерные изыскания', 'АО ',\n",
       "       'Проектирование, поставка, монтаж  и наладка электрооборудования и средств автоматизации.\\nИзготовление НКУ.\\n',\n",
       "       'Проектирование автомобильных дорог, строительство автомобильных дорог.',\n",
       "       'ОКВЭД 71.12.1',\n",
       "       'общество с ограниченной ответственностью (частная организация)',\n",
       "       'Проектные работы',\n",
       "       'Деятельность в области инженерных изысканий, инженерно-технического проектирования, управления проектами строительства.',\n",
       "       'Нефтегазодобыча'], dtype=object)"
      ]
     },
     "execution_count": 11,
     "metadata": {},
     "output_type": "execute_result"
    }
   ],
   "source": [
    "data['Вид деятельности организации'].unique()"
   ]
  },
  {
   "cell_type": "markdown",
   "id": "c68dd147-9920-416c-9a85-6fe8ddaa7677",
   "metadata": {},
   "source": [
    "Данные по полю `Вид деятельности организации` скорее всего внесены без выбора (введены вручную), что требует дополнительной обработки, группировки с предварительным пониманием того, что подразумевается под \"вид деятельности организации\". \n",
    "\n",
    "Даже при незначительных (80 организаций) размерах датасета данные внесены разные: форма собственности, юридическое оформление (ИП, ООО), оквэд в кодировке и расшифровке. А с увеличением строк увеличатся и ошибки и разброс данных. Из рекомендаций - зафиксировать виды деятельности и дать пользователю возможность выбирать, а не печатать данные.\n",
    "\n",
    "Стоит также проанализировать и другие поля на уровне формы для заполнения и во всех случаях, когда есть возможность указать список значений - сделать именно так."
   ]
  },
  {
   "cell_type": "markdown",
   "id": "70cb6293-b578-4c0f-a675-72ab4487bd0a",
   "metadata": {},
   "source": [
    "Посмотрим на целевые поля из референса, а именно нас интересуют \n",
    " - количество упоминаний по регионам в абсолютном и относительном значении\n",
    " - Подсчет значений  в Поле \"Знали ли вы о существовании такого продукта прежде?\" в абсолютном и относительном значении\n",
    " - Подсчет значений в Поле \"Существует ли потребность в данном продукте для решения специализированных задач подразделения и подведомственных организаций?\"\n"
   ]
  },
  {
   "cell_type": "code",
   "execution_count": 12,
   "id": "2fdc0ee1-ae68-44f7-a809-a20fa66752d9",
   "metadata": {
    "scrolled": true
   },
   "outputs": [
    {
     "name": "stdout",
     "output_type": "stream",
     "text": [
      "В поле: \"Знали ли вы о существовании такого продукта прежде?\"\n",
      "2 уникальных значения: ['Да', 'Нет']\n",
      "\n",
      "В поле: \"Существует ли потребность в данном продукте для решения специализированных задач подразделения и подведомственных организаций?\"\n",
      "4 уникальных значения: ['нет, потребность отсутствует', 'да (уже используем)', 'да (пока не используется, хотели бы использовать)', 'требуется более подробная информация о продукте', nan]\n",
      "\n",
      "В поле: \"Регион\"\n",
      "29 уникальных значения: ['Московская область', 'Санкт-Петербург', 'Новосибирская область', 'Краснодарский край', 'Москва', 'Тюменская область', 'Свердловская область', 'Сахалинская область', 'Иркутская область', 'Донецкая Народная Республика', 'Омская область', 'Самарская область', 'Амурская область', 'Волгоградская область', 'Кемеровская область - Кузбасс', 'Белгородская область', 'Республика Татарстан (Татарстан)', 'Пензенская область', 'Пермский край', 'Калужская область', 'Липецкая область', 'Мурманская область', 'Тамбовская область', 'Хабаровский край', 'Саратовская область', 'Красноярский край', 'Республика Хакасия', 'Тверская область', 'Алтайский край']\n",
      "\n"
     ]
    }
   ],
   "source": [
    "# в список фиксируем интересующие поля \n",
    "col_list = ['Знали ли вы о существовании такого продукта прежде?',\n",
    "            'Существует ли потребность в данном продукте для решения специализированных задач подразделения и подведомственных организаций?',\n",
    "            'Регион'\n",
    "           ]\n",
    "# смотрим какие уникальные значения в интересующих полях               \n",
    "for i, col in enumerate(col_list):\n",
    "    print('В поле: \"{}\"\\n{} уникальных значения: {}\\\n",
    "\\n'.format(col_list[i],\n",
    "         data[col].nunique(),\n",
    "         list(data[col].unique())\n",
    "        )    \n",
    "         )"
   ]
  },
  {
   "cell_type": "markdown",
   "id": "d061d080-e0c3-4789-bc90-d46879166972",
   "metadata": {},
   "source": [
    "Значения в полях не вызывают вопросов. \n",
    "# Цифровой ортофотоплан\n",
    "\n",
    "## Знали ли вы о существовании такого продукта прежде?\" \n",
    "Посчитаем количество ответов и их долю В поле: \"Знали ли вы о существовании такого продукта прежде?\""
   ]
  },
  {
   "cell_type": "code",
   "execution_count": 13,
   "id": "b1f680ca-0603-403b-80ce-763657698d84",
   "metadata": {},
   "outputs": [
    {
     "name": "stdout",
     "output_type": "stream",
     "text": [
      "Знали ли вы о существовании такого продукта прежде? \n",
      "Общее количество ответов: 80\n"
     ]
    },
    {
     "data": {
      "text/html": [
       "<div>\n",
       "<style scoped>\n",
       "    .dataframe tbody tr th:only-of-type {\n",
       "        vertical-align: middle;\n",
       "    }\n",
       "\n",
       "    .dataframe tbody tr th {\n",
       "        vertical-align: top;\n",
       "    }\n",
       "\n",
       "    .dataframe thead th {\n",
       "        text-align: right;\n",
       "    }\n",
       "</style>\n",
       "<table border=\"1\" class=\"dataframe\">\n",
       "  <thead>\n",
       "    <tr style=\"text-align: right;\">\n",
       "      <th></th>\n",
       "      <th>Ответ</th>\n",
       "      <th>Количество</th>\n",
       "      <th>Процент, %</th>\n",
       "    </tr>\n",
       "  </thead>\n",
       "  <tbody>\n",
       "    <tr>\n",
       "      <th>0</th>\n",
       "      <td>Да</td>\n",
       "      <td>48</td>\n",
       "      <td>60.0</td>\n",
       "    </tr>\n",
       "    <tr>\n",
       "      <th>1</th>\n",
       "      <td>Нет</td>\n",
       "      <td>32</td>\n",
       "      <td>40.0</td>\n",
       "    </tr>\n",
       "  </tbody>\n",
       "</table>\n",
       "</div>"
      ],
      "text/plain": [
       "  Ответ  Количество  Процент, %\n",
       "0    Да          48        60.0\n",
       "1   Нет          32        40.0"
      ]
     },
     "execution_count": 13,
     "metadata": {},
     "output_type": "execute_result"
    }
   ],
   "source": [
    "# для нужного поля по индексу из col_list посчитаем  нужное\n",
    "print(col_list[0],\n",
    "'\\nОбщее количество ответов:', data[col_list[0]].count(),     )\n",
    "\n",
    "answer1 = (data[col_list[0]]\n",
    "           .value_counts(dropna=False)\n",
    "           .reset_index())\n",
    "# переименуем поля\n",
    "answer1.columns = ['Ответ', 'Количество']\n",
    "answer1['Процент, %'] = round(\n",
    "    answer1['Количество'] / \n",
    "    answer1['Количество'].sum() * 100\n",
    "                         , 2)\n",
    "# посмотрим что получилос\n",
    "answer1"
   ]
  },
  {
   "cell_type": "markdown",
   "id": "badde563-2982-4647-bf62-1242b0be52bf",
   "metadata": {},
   "source": [
    "Добавим визуализацию пайчарт для полученных данных"
   ]
  },
  {
   "cell_type": "code",
   "execution_count": 14,
   "id": "b3c70515-197b-4b4d-8f82-fbf52a5c2791",
   "metadata": {},
   "outputs": [
    {
     "data": {
      "image/png": "[encoded data removed]",
      "text/plain": [
       "<Figure size 500x500 with 1 Axes>"
      ]
     },
     "metadata": {},
     "output_type": "display_data"
    }
   ],
   "source": [
    "# зададим размеры фигуры\n",
    "plt.figure(figsize=(5,5))\n",
    "# определим расстояние междучастями пайчарта\n",
    "explode = [0, 0.01] \n",
    "# определим цветовую палитру \n",
    "palette_color = sns.color_palette('Set1') \n",
    "  \n",
    "# задаем параметры для пайчарта\n",
    "plt.pie(answer1['Количество'], \n",
    "        labels=answer1['Ответ'], \n",
    "        colors=palette_color, \n",
    "        explode=explode, \n",
    "        startangle=65, # поворот пайчарта\n",
    "        autopct='%.0f%%') \n",
    " #подписываем график\n",
    "plt.title('Знали ли вы о существовании\\n такого продукта прежде? , %',\n",
    "         fontsize=14, fontweight=\"bold\")\n",
    "\n",
    "#выводим график\n",
    "plt.show()  "
   ]
  },
  {
   "cell_type": "markdown",
   "id": "c3e97d80-9bd4-4b56-ba06-d095777cb40d",
   "metadata": {},
   "source": [
    "60% респондентов утверждают, что знали о продукте прежде."
   ]
  },
  {
   "cell_type": "markdown",
   "id": "d430f6fd-e843-4955-b818-0ca37ea28296",
   "metadata": {},
   "source": [
    "## Существует ли потребность в данном продукте для решения специализированных задач подразделения и подведомственных организаций?\n"
   ]
  },
  {
   "cell_type": "code",
   "execution_count": 15,
   "id": "eba3012d-115a-498d-8139-82eaef6a9291",
   "metadata": {},
   "outputs": [
    {
     "name": "stdout",
     "output_type": "stream",
     "text": [
      "Существует ли потребность в данном продукте для решения специализированных задач подразделения и подведомственных организаций? \n",
      "Общее количество ответов: 79\n"
     ]
    },
    {
     "data": {
      "text/html": [
       "<div>\n",
       "<style scoped>\n",
       "    .dataframe tbody tr th:only-of-type {\n",
       "        vertical-align: middle;\n",
       "    }\n",
       "\n",
       "    .dataframe tbody tr th {\n",
       "        vertical-align: top;\n",
       "    }\n",
       "\n",
       "    .dataframe thead th {\n",
       "        text-align: right;\n",
       "    }\n",
       "</style>\n",
       "<table border=\"1\" class=\"dataframe\">\n",
       "  <thead>\n",
       "    <tr style=\"text-align: right;\">\n",
       "      <th></th>\n",
       "      <th>Значение</th>\n",
       "      <th>Количество</th>\n",
       "      <th>Процент, %</th>\n",
       "    </tr>\n",
       "  </thead>\n",
       "  <tbody>\n",
       "    <tr>\n",
       "      <th>0</th>\n",
       "      <td>нет, потребность отсутствует</td>\n",
       "      <td>30</td>\n",
       "      <td>37.97</td>\n",
       "    </tr>\n",
       "    <tr>\n",
       "      <th>1</th>\n",
       "      <td>да (пока не используется, хотели бы использовать)</td>\n",
       "      <td>26</td>\n",
       "      <td>32.91</td>\n",
       "    </tr>\n",
       "    <tr>\n",
       "      <th>2</th>\n",
       "      <td>да (уже используем)</td>\n",
       "      <td>19</td>\n",
       "      <td>24.05</td>\n",
       "    </tr>\n",
       "    <tr>\n",
       "      <th>3</th>\n",
       "      <td>требуется более подробная информация о продукте</td>\n",
       "      <td>4</td>\n",
       "      <td>5.06</td>\n",
       "    </tr>\n",
       "  </tbody>\n",
       "</table>\n",
       "</div>"
      ],
      "text/plain": [
       "                                            Значение  Количество  Процент, %\n",
       "0                       нет, потребность отсутствует          30       37.97\n",
       "1  да (пока не используется, хотели бы использовать)          26       32.91\n",
       "2                                да (уже используем)          19       24.05\n",
       "3    требуется более подробная информация о продукте           4        5.06"
      ]
     },
     "execution_count": 15,
     "metadata": {},
     "output_type": "execute_result"
    }
   ],
   "source": [
    "# для нужного поля по индексу из col_list посчитаем  нужное\n",
    "print(col_list[1],\n",
    "'\\nОбщее количество ответов:', data[col_list[1]].count())\n",
    "\n",
    "answer2 = (data[col_list[1]]\n",
    "           .value_counts(dropna=True)\n",
    "           .reset_index())\n",
    "# переименуем поля\n",
    "answer2.columns = ['Значение', 'Количество']\n",
    "answer2['Процент, %'] = round(\n",
    "    answer2['Количество'] / \n",
    "    answer2['Количество'].sum() * 100\n",
    "                         , 2)\n",
    "# посмотрим что получилос\n",
    "answer2"
   ]
  },
  {
   "cell_type": "markdown",
   "id": "8265f0b3-9fae-42bb-856c-9bd043535b09",
   "metadata": {},
   "source": [
    "Добавим визуализациидля получившейся информации: диаграмму и пайчарт."
   ]
  },
  {
   "cell_type": "code",
   "execution_count": 16,
   "id": "2b602919-c0a6-4c90-9e90-f4c7f8911453",
   "metadata": {},
   "outputs": [
    {
     "data": {
      "image/png": "[encoded data removed]",
      "text/plain": [
       "<Figure size 500x500 with 1 Axes>"
      ]
     },
     "metadata": {},
     "output_type": "display_data"
    }
   ],
   "source": [
    "# зададим размеры фигуры\n",
    "plt.figure(figsize=(5,5))\n",
    "# определим расстояние междучастями пайчарта\n",
    "explode = [0, 0.02, 0.02, 0.02] \n",
    "# определим цветовую палитру \n",
    "palette_color = sns.color_palette('Set1') \n",
    "  \n",
    "# задаем параметры для пайчарта\n",
    "plt.pie(answer2['Количество'], \n",
    "        labels=answer2['Значение'], \n",
    "        colors=palette_color, \n",
    "        explode=explode, \n",
    "        startangle=125, # поворот пайчарта\n",
    "        autopct='%.0f%%') \n",
    " #подписываем график\n",
    "plt.title('Существует ли потребность в данном продукте? , %',\n",
    "         fontsize=14, fontweight=\"bold\")\n",
    "\n",
    "#выводим график\n",
    "plt.show()  "
   ]
  },
  {
   "cell_type": "code",
   "execution_count": 17,
   "id": "e2028f55-8789-46e4-8859-2e02be0fbc5d",
   "metadata": {
    "scrolled": true
   },
   "outputs": [
    {
     "data": {
      "image/png": "[encoded data removed]",
      "text/plain": [
       "<Figure size 1000x800 with 1 Axes>"
      ]
     },
     "metadata": {},
     "output_type": "display_data"
    }
   ],
   "source": [
    "#строим график\n",
    "plt.figure(figsize=(10,8))\n",
    "\n",
    "sns.barplot(data=answer2,\n",
    "            y='Значение', \n",
    "            x='Процент, %',\n",
    "            color='#447D9B',       # цвет столбцов\n",
    "            legend='auto',\n",
    "            alpha=0.9)\n",
    "           \n",
    "#подписываем график\n",
    "plt.title('Существует ли потребность в данном продукте? , %\\n',\n",
    "         fontsize=16, fontweight=\"bold\")\n",
    "\n",
    "#добавляем подписи по осям Х,убираем по оси У\n",
    "plt.ylabel('')\n",
    "plt.xlabel('%',fontsize = 16, fontweight ='bold')\n",
    "           \n",
    "#уберем границы в графике\n",
    "sns.despine()\n",
    "#выводим график\n",
    "plt.show()"
   ]
  },
  {
   "cell_type": "markdown",
   "id": "8556c520-d663-44f1-b5aa-46e2b69e50c3",
   "metadata": {},
   "source": []
  },
  {
   "cell_type": "code",
   "execution_count": 25,
   "id": "4264017d-dcc7-42f0-990f-5090b6b2e320",
   "metadata": {},
   "outputs": [
    {
     "ename": "ValueError",
     "evalue": "unknown url type: 'files/ru.geojson'",
     "output_type": "error",
     "traceback": [
      "\u001b[1;31m---------------------------------------------------------------------------\u001b[0m",
      "\u001b[1;31mValueError\u001b[0m                                Traceback (most recent call last)",
      "Cell \u001b[1;32mIn[25], line 2\u001b[0m\n\u001b[0;32m      1\u001b[0m url \u001b[38;5;241m=\u001b[39m \u001b[38;5;124m'\u001b[39m\u001b[38;5;124mfiles/ru.geojson\u001b[39m\u001b[38;5;124m'\u001b[39m\n\u001b[1;32m----> 2\u001b[0m \u001b[38;5;28;01mwith\u001b[39;00m urlopen(url) \u001b[38;5;28;01mas\u001b[39;00m responce:\n\u001b[0;32m      3\u001b[0m     counties \u001b[38;5;241m=\u001b[39m json\u001b[38;5;241m.\u001b[39mload(responce)\n",
      "File \u001b[1;32m~\\anaconda3\\Lib\\urllib\\request.py:215\u001b[0m, in \u001b[0;36murlopen\u001b[1;34m(url, data, timeout, cafile, capath, cadefault, context)\u001b[0m\n\u001b[0;32m    213\u001b[0m \u001b[38;5;28;01melse\u001b[39;00m:\n\u001b[0;32m    214\u001b[0m     opener \u001b[38;5;241m=\u001b[39m _opener\n\u001b[1;32m--> 215\u001b[0m \u001b[38;5;28;01mreturn\u001b[39;00m opener\u001b[38;5;241m.\u001b[39mopen(url, data, timeout)\n",
      "File \u001b[1;32m~\\anaconda3\\Lib\\urllib\\request.py:499\u001b[0m, in \u001b[0;36mOpenerDirector.open\u001b[1;34m(self, fullurl, data, timeout)\u001b[0m\n\u001b[0;32m    496\u001b[0m \u001b[38;5;28;01mdef\u001b[39;00m \u001b[38;5;21mopen\u001b[39m(\u001b[38;5;28mself\u001b[39m, fullurl, data\u001b[38;5;241m=\u001b[39m\u001b[38;5;28;01mNone\u001b[39;00m, timeout\u001b[38;5;241m=\u001b[39msocket\u001b[38;5;241m.\u001b[39m_GLOBAL_DEFAULT_TIMEOUT):\n\u001b[0;32m    497\u001b[0m     \u001b[38;5;66;03m# accept a URL or a Request object\u001b[39;00m\n\u001b[0;32m    498\u001b[0m     \u001b[38;5;28;01mif\u001b[39;00m \u001b[38;5;28misinstance\u001b[39m(fullurl, \u001b[38;5;28mstr\u001b[39m):\n\u001b[1;32m--> 499\u001b[0m         req \u001b[38;5;241m=\u001b[39m Request(fullurl, data)\n\u001b[0;32m    500\u001b[0m     \u001b[38;5;28;01melse\u001b[39;00m:\n\u001b[0;32m    501\u001b[0m         req \u001b[38;5;241m=\u001b[39m fullurl\n",
      "File \u001b[1;32m~\\anaconda3\\Lib\\urllib\\request.py:318\u001b[0m, in \u001b[0;36mRequest.__init__\u001b[1;34m(self, url, data, headers, origin_req_host, unverifiable, method)\u001b[0m\n\u001b[0;32m    315\u001b[0m \u001b[38;5;28;01mdef\u001b[39;00m \u001b[38;5;21m__init__\u001b[39m(\u001b[38;5;28mself\u001b[39m, url, data\u001b[38;5;241m=\u001b[39m\u001b[38;5;28;01mNone\u001b[39;00m, headers\u001b[38;5;241m=\u001b[39m{},\n\u001b[0;32m    316\u001b[0m              origin_req_host\u001b[38;5;241m=\u001b[39m\u001b[38;5;28;01mNone\u001b[39;00m, unverifiable\u001b[38;5;241m=\u001b[39m\u001b[38;5;28;01mFalse\u001b[39;00m,\n\u001b[0;32m    317\u001b[0m              method\u001b[38;5;241m=\u001b[39m\u001b[38;5;28;01mNone\u001b[39;00m):\n\u001b[1;32m--> 318\u001b[0m     \u001b[38;5;28mself\u001b[39m\u001b[38;5;241m.\u001b[39mfull_url \u001b[38;5;241m=\u001b[39m url\n\u001b[0;32m    319\u001b[0m     \u001b[38;5;28mself\u001b[39m\u001b[38;5;241m.\u001b[39mheaders \u001b[38;5;241m=\u001b[39m {}\n\u001b[0;32m    320\u001b[0m     \u001b[38;5;28mself\u001b[39m\u001b[38;5;241m.\u001b[39munredirected_hdrs \u001b[38;5;241m=\u001b[39m {}\n",
      "File \u001b[1;32m~\\anaconda3\\Lib\\urllib\\request.py:344\u001b[0m, in \u001b[0;36mRequest.full_url\u001b[1;34m(self, url)\u001b[0m\n\u001b[0;32m    342\u001b[0m \u001b[38;5;28mself\u001b[39m\u001b[38;5;241m.\u001b[39m_full_url \u001b[38;5;241m=\u001b[39m unwrap(url)\n\u001b[0;32m    343\u001b[0m \u001b[38;5;28mself\u001b[39m\u001b[38;5;241m.\u001b[39m_full_url, \u001b[38;5;28mself\u001b[39m\u001b[38;5;241m.\u001b[39mfragment \u001b[38;5;241m=\u001b[39m _splittag(\u001b[38;5;28mself\u001b[39m\u001b[38;5;241m.\u001b[39m_full_url)\n\u001b[1;32m--> 344\u001b[0m \u001b[38;5;28mself\u001b[39m\u001b[38;5;241m.\u001b[39m_parse()\n",
      "File \u001b[1;32m~\\anaconda3\\Lib\\urllib\\request.py:373\u001b[0m, in \u001b[0;36mRequest._parse\u001b[1;34m(self)\u001b[0m\n\u001b[0;32m    371\u001b[0m \u001b[38;5;28mself\u001b[39m\u001b[38;5;241m.\u001b[39mtype, rest \u001b[38;5;241m=\u001b[39m _splittype(\u001b[38;5;28mself\u001b[39m\u001b[38;5;241m.\u001b[39m_full_url)\n\u001b[0;32m    372\u001b[0m \u001b[38;5;28;01mif\u001b[39;00m \u001b[38;5;28mself\u001b[39m\u001b[38;5;241m.\u001b[39mtype \u001b[38;5;129;01mis\u001b[39;00m \u001b[38;5;28;01mNone\u001b[39;00m:\n\u001b[1;32m--> 373\u001b[0m     \u001b[38;5;28;01mraise\u001b[39;00m \u001b[38;5;167;01mValueError\u001b[39;00m(\u001b[38;5;124m\"\u001b[39m\u001b[38;5;124munknown url type: \u001b[39m\u001b[38;5;132;01m%r\u001b[39;00m\u001b[38;5;124m\"\u001b[39m \u001b[38;5;241m%\u001b[39m \u001b[38;5;28mself\u001b[39m\u001b[38;5;241m.\u001b[39mfull_url)\n\u001b[0;32m    374\u001b[0m \u001b[38;5;28mself\u001b[39m\u001b[38;5;241m.\u001b[39mhost, \u001b[38;5;28mself\u001b[39m\u001b[38;5;241m.\u001b[39mselector \u001b[38;5;241m=\u001b[39m _splithost(rest)\n\u001b[0;32m    375\u001b[0m \u001b[38;5;28;01mif\u001b[39;00m \u001b[38;5;28mself\u001b[39m\u001b[38;5;241m.\u001b[39mhost:\n",
      "\u001b[1;31mValueError\u001b[0m: unknown url type: 'files/ru.geojson'"
     ]
    }
   ],
   "source": [
    "url = 'files/ru.geojson'\n",
    "with urlopen(url) as responce:\n",
    "    counties = json.load(responce)"
   ]
  },
  {
   "cell_type": "markdown",
   "id": "9c7e3fdc-7cc1-46e2-a94e-2c8da43b4f9a",
   "metadata": {},
   "source": [
    "Получаем словарь counties. Нас интересует `counties['features']` - он хранит список словарей для каждого региона. В нем хранятся `название`, `ID` и `геометрия региона`\n",
    "\n",
    "В 'features' значений ровно столько, сколько административных единиц в РФ.\n",
    "\n",
    "охраним в датафрейм ID регионов и их названий, чтобы в дальнейшем соединить эти значения для графика."
   ]
  },
  {
   "cell_type": "code",
   "execution_count": 23,
   "id": "3c00d2a0-6e7b-40f3-970a-245161ff69eb",
   "metadata": {},
   "outputs": [],
   "source": [
    "df = pd.DataFrame()\n",
    "df['region'] = (\n",
    "    [counties['features'][i]['properties']['name']\n",
    "     for i in range(len(counties['features']))]          \n",
    "               )\n",
    "\n",
    "df['id'] = (\n",
    "    [counties['features'][i]['properties']['cartodb_id']\n",
    "         for i in range(len(counties['features']))]     \n",
    "    \n",
    ")\n",
    "df = df.merge()"
   ]
  },
  {
   "cell_type": "code",
   "execution_count": 24,
   "id": "566a133d-a496-4081-922b-138b15e32ec5",
   "metadata": {},
   "outputs": [
    {
     "data": {
      "text/html": [
       "<div>\n",
       "<style scoped>\n",
       "    .dataframe tbody tr th:only-of-type {\n",
       "        vertical-align: middle;\n",
       "    }\n",
       "\n",
       "    .dataframe tbody tr th {\n",
       "        vertical-align: top;\n",
       "    }\n",
       "\n",
       "    .dataframe thead th {\n",
       "        text-align: right;\n",
       "    }\n",
       "</style>\n",
       "<table border=\"1\" class=\"dataframe\">\n",
       "  <thead>\n",
       "    <tr style=\"text-align: right;\">\n",
       "      <th></th>\n",
       "      <th>regoin</th>\n",
       "      <th>id</th>\n",
       "    </tr>\n",
       "  </thead>\n",
       "  <tbody>\n",
       "    <tr>\n",
       "      <th>0</th>\n",
       "      <td>Бурятия</td>\n",
       "      <td>10</td>\n",
       "    </tr>\n",
       "    <tr>\n",
       "      <th>1</th>\n",
       "      <td>Карачаево-Черкесская республика</td>\n",
       "      <td>13</td>\n",
       "    </tr>\n",
       "    <tr>\n",
       "      <th>2</th>\n",
       "      <td>Сахалинская область</td>\n",
       "      <td>11</td>\n",
       "    </tr>\n",
       "    <tr>\n",
       "      <th>3</th>\n",
       "      <td>Воронежская область</td>\n",
       "      <td>16</td>\n",
       "    </tr>\n",
       "    <tr>\n",
       "      <th>4</th>\n",
       "      <td>Томская область</td>\n",
       "      <td>18</td>\n",
       "    </tr>\n",
       "    <tr>\n",
       "      <th>...</th>\n",
       "      <td>...</td>\n",
       "      <td>...</td>\n",
       "    </tr>\n",
       "    <tr>\n",
       "      <th>78</th>\n",
       "      <td>Удмуртская республика</td>\n",
       "      <td>59</td>\n",
       "    </tr>\n",
       "    <tr>\n",
       "      <th>79</th>\n",
       "      <td>Вологодская область</td>\n",
       "      <td>55</td>\n",
       "    </tr>\n",
       "    <tr>\n",
       "      <th>80</th>\n",
       "      <td>Ингушетия</td>\n",
       "      <td>34</td>\n",
       "    </tr>\n",
       "    <tr>\n",
       "      <th>81</th>\n",
       "      <td>Челябинская область</td>\n",
       "      <td>24</td>\n",
       "    </tr>\n",
       "    <tr>\n",
       "      <th>82</th>\n",
       "      <td>Башкортостан</td>\n",
       "      <td>61</td>\n",
       "    </tr>\n",
       "  </tbody>\n",
       "</table>\n",
       "<p>83 rows × 2 columns</p>\n",
       "</div>"
      ],
      "text/plain": [
       "                             regoin  id\n",
       "0                           Бурятия  10\n",
       "1   Карачаево-Черкесская республика  13\n",
       "2               Сахалинская область  11\n",
       "3               Воронежская область  16\n",
       "4                   Томская область  18\n",
       "..                              ...  ..\n",
       "78            Удмуртская республика  59\n",
       "79              Вологодская область  55\n",
       "80                        Ингушетия  34\n",
       "81              Челябинская область  24\n",
       "82                     Башкортостан  61\n",
       "\n",
       "[83 rows x 2 columns]"
      ]
     },
     "execution_count": 24,
     "metadata": {},
     "output_type": "execute_result"
    }
   ],
   "source": [
    "df"
   ]
  },
  {
   "cell_type": "code",
   "execution_count": null,
   "id": "e284c664-b5af-40bd-87d7-035d3211a84e",
   "metadata": {},
   "outputs": [],
   "source": []
  }
 ],
 "metadata": {
  "kernelspec": {
   "display_name": "Python 3 (ipykernel)",
   "language": "python",
   "name": "python3"
  },
  "language_info": {
   "codemirror_mode": {
    "name": "ipython",
    "version": 3
   },
   "file_extension": ".py",
   "mimetype": "text/x-python",
   "name": "python",
   "nbconvert_exporter": "python",
   "pygments_lexer": "ipython3",
   "version": "3.12.7"
  }
 },
 "nbformat": 4,
 "nbformat_minor": 5
}
