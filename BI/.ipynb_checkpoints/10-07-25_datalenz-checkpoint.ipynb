{
 "cells": [
  {
   "attachments": {},
   "cell_type": "markdown",
   "id": "6d26f880-6606-44f0-8cbf-e35af673a135",
   "metadata": {},
   "source": [
    "Во [вложении]() выгрузка данных из яндекс-формы.\n",
    "\n",
    "Задача, провести исследование.\n",
    "\n",
    "Ответ + код лучше в колабе или * ipynb , или дашборды\n",
    " \n",
    "\n",
    "Пример, как мы это сейчас визуализировали один из вопросов и отображение ответов:\n",
    "\n",
    "![](images/image002.jpg)<br>\n",
    "![](images/image003.jpg)<br>"
   ]
  },
  {
   "cell_type": "code",
   "execution_count": 1,
   "id": "b03ffe03-a23a-4e25-a966-dde850df844f",
   "metadata": {},
   "outputs": [],
   "source": [
    "import matplotlib.pyplot as plt\n",
    "import numpy as np\n",
    "import pandas as pd\n",
    "import seaborn as sns\n",
    "\n",
    "from urllib.request import urlopen\n",
    "import json\n",
    "import plotly.express as px\n",
    "import plotly.graph_objects as go\n",
    "import geopandas as gpd\n",
    "\n"
   ]
  },
  {
   "cell_type": "markdown",
   "id": "0dcc054a-13fd-43f6-a5ce-e4c753c24f11",
   "metadata": {},
   "source": [
    "# Знакомство с данными"
   ]
  },
  {
   "cell_type": "code",
   "execution_count": 2,
   "id": "12fd4f49-45be-4272-98de-ad6da87fef16",
   "metadata": {
    "scrolled": true
   },
   "outputs": [
    {
     "data": {
      "text/html": [
       "<div>\n",
       "<style scoped>\n",
       "    .dataframe tbody tr th:only-of-type {\n",
       "        vertical-align: middle;\n",
       "    }\n",
       "\n",
       "    .dataframe tbody tr th {\n",
       "        vertical-align: top;\n",
       "    }\n",
       "\n",
       "    .dataframe thead th {\n",
       "        text-align: right;\n",
       "    }\n",
       "</style>\n",
       "<table border=\"1\" class=\"dataframe\">\n",
       "  <thead>\n",
       "    <tr style=\"text-align: right;\">\n",
       "      <th></th>\n",
       "      <th>30</th>\n",
       "    </tr>\n",
       "  </thead>\n",
       "  <tbody>\n",
       "    <tr>\n",
       "      <th>ID</th>\n",
       "      <td>NaN</td>\n",
       "    </tr>\n",
       "    <tr>\n",
       "      <th>Время создания</th>\n",
       "      <td>NaN</td>\n",
       "    </tr>\n",
       "    <tr>\n",
       "      <th>Наименование организации:</th>\n",
       "      <td>ООО \"Альфа Телеком Стандарт\"</td>\n",
       "    </tr>\n",
       "    <tr>\n",
       "      <th>Регион</th>\n",
       "      <td>Республика Татарстан (Татарстан)</td>\n",
       "    </tr>\n",
       "    <tr>\n",
       "      <th>Город</th>\n",
       "      <td>Набережные Челны</td>\n",
       "    </tr>\n",
       "    <tr>\n",
       "      <th>...</th>\n",
       "      <td>...</td>\n",
       "    </tr>\n",
       "    <tr>\n",
       "      <th>Какие геоинформационные операции могут быть наиболее востребованы и были бы полезны в вашей деятельности: / Создание анимаций. Визуализация динамики процессов (пример 1: распространение пожара; пример 2: рост города за 50 лет).</th>\n",
       "      <td>NaN</td>\n",
       "    </tr>\n",
       "    <tr>\n",
       "      <th>Какие геоинформационные операции могут быть наиболее востребованы и были бы полезны в вашей деятельности: / Иное</th>\n",
       "      <td>NaN</td>\n",
       "    </tr>\n",
       "    <tr>\n",
       "      <th>Иные геоинформационные операции, которые востребованы в вашей деятельности</th>\n",
       "      <td>NaN</td>\n",
       "    </tr>\n",
       "    <tr>\n",
       "      <th>Укажите идеи для геоинформационных сервисов и решений (включающие карты, пространственные данные, геоаналитику)  под задачи, которые могли быть востребованы организацией:</th>\n",
       "      <td>NaN</td>\n",
       "    </tr>\n",
       "    <tr>\n",
       "      <th>Готовы ли Вы ответить на несколько вопросов в рамках онлайн - интервью?</th>\n",
       "      <td>Нет</td>\n",
       "    </tr>\n",
       "  </tbody>\n",
       "</table>\n",
       "<p>179 rows × 1 columns</p>\n",
       "</div>"
      ],
      "text/plain": [
       "                                                                                  30\n",
       "ID                                                                               NaN\n",
       "Время создания                                                                   NaN\n",
       "Наименование организации:                               ООО \"Альфа Телеком Стандарт\"\n",
       "Регион                                              Республика Татарстан (Татарстан)\n",
       "Город                                                               Набережные Челны\n",
       "...                                                                              ...\n",
       "Какие геоинформационные операции могут быть наи...                               NaN\n",
       "Какие геоинформационные операции могут быть наи...                               NaN\n",
       "Иные геоинформационные операции, которые востре...                               NaN\n",
       "Укажите идеи для геоинформационных сервисов и р...                               NaN\n",
       "Готовы ли Вы ответить на несколько вопросов в р...                               Нет\n",
       "\n",
       "[179 rows x 1 columns]"
      ]
     },
     "execution_count": 2,
     "metadata": {},
     "output_type": "execute_result"
    }
   ],
   "source": [
    "# путь к файлу\n",
    "file_path='files/2025.06.23.15.00test.xlsx'\n",
    "# записываем в датафрейм файл\n",
    "data= pd.read_excel(file_path)\n",
    "# смотрим на случайную строку\n",
    "data.sample(n=1, random_state=42).T"
   ]
  },
  {
   "cell_type": "markdown",
   "id": "137fd011-fc52-452e-9fef-5f17ca519d40",
   "metadata": {},
   "source": [
    "Первично можно сказать, что датасет содержит информацию опросника организаций с указанием региона и города. Полей много и смотреть их в виде таблицы или графика в исходном виде будет неудобно. "
   ]
  },
  {
   "cell_type": "code",
   "execution_count": 3,
   "id": "7c1f7cae-6e3f-4c7b-83c0-8767a60214a1",
   "metadata": {},
   "outputs": [
    {
     "name": "stdout",
     "output_type": "stream",
     "text": [
      "Датасет содержит: 80 строк, 179 столбцов\n"
     ]
    }
   ],
   "source": [
    "# Выводим информацию о размере датафрейма\n",
    "print(f\"Датасет содержит: {len(data)} строк, \\\n",
    "{data.shape[1]} столбцов\")\n"
   ]
  },
  {
   "cell_type": "code",
   "execution_count": 4,
   "id": "00c87803-7241-4d29-94fa-20e7b73d34d2",
   "metadata": {},
   "outputs": [
    {
     "data": {
      "text/plain": [
       "object     164\n",
       "float64     15\n",
       "Name: count, dtype: int64"
      ]
     },
     "execution_count": 4,
     "metadata": {},
     "output_type": "execute_result"
    }
   ],
   "source": [
    "#столбцов с определенным типом данных в датафрейме\n",
    "data.dtypes.value_counts()"
   ]
  },
  {
   "cell_type": "markdown",
   "id": "e9858866-c105-43f1-99b8-ea8014e1ac20",
   "metadata": {},
   "source": [
    "Датасет содержит два типа данных: строки (object) и числовой (float64) Это означает, что данные содержат строки, а также либо число с плавающей точкой либо пропуски. При первом взгляде для полей `ID`тип данных обычно целочисленный/строковый, \t`Время создания` - datetime/time.\n",
    "\n",
    "Посмотрим на пропуски."
   ]
  },
  {
   "cell_type": "code",
   "execution_count": 5,
   "id": "ae07bf63-7f3d-42e9-9d0a-98ae3449effb",
   "metadata": {},
   "outputs": [
    {
     "name": "stdout",
     "output_type": "stream",
     "text": [
      "Всего датасет содержит 9274 пропусков.\n",
      "=========================================\n",
      "Медианное количество пропусков в каждом из 179 столбцов: 64 или  80 % \n",
      "=========================================\n",
      "Cтолбцы без пропусков:\n",
      "1. Наименование организации:\n",
      "2. Регион\n",
      "3. Город\n",
      "4. Знаете ли вы о запрете использования зарубежных геоинформационных технологий органами государственной власти с 1 января 2026 года, согласно Федеральному закону от 30.12.2015 № 431-ФЗ ‎«О геодезии, картографии и пространственных данных и о внесении изменений ‎в отдельные законодательные акты Российской Федерации»\n",
      "5. Знали ли вы о существовании такого продукта прежде?\n",
      "6. Готовы ли Вы ответить на несколько вопросов в рамках онлайн - интервью?\n"
     ]
    }
   ],
   "source": [
    "print(f\"Всего датасет содержит {data.isnull().values.sum()} пропусков.\\n\\\n",
    "=========================================\")\n",
    "print('Медианное количество пропусков в каждом из',\n",
    "data.shape[1], 'столбцов:', \n",
    "int(data.isna().sum().median()), 'или ', \n",
    "round((data.isna().sum().median() / len(data)) * 100), '% \\n\\\n",
    "=========================================')\n",
    "print('Cтолбцы без пропусков:')\n",
    "# процент нулевых значений\n",
    "cnt_full_col = 0\n",
    "for col in data.columns:\n",
    "    pct_missing = np.mean(data[col].isnull())\n",
    "    if pct_missing == 0:\n",
    "        cnt_full_col +=1\n",
    "        print(\"{}. {}\".format(cnt_full_col, col))"
   ]
  },
  {
   "cell_type": "code",
   "execution_count": 6,
   "id": "45a8f0a1-77ad-4fe2-8a13-3ee902e81d09",
   "metadata": {},
   "outputs": [
    {
     "name": "stdout",
     "output_type": "stream",
     "text": [
      "Cтолбцы со 100% пропусками:\n",
      "=========================================\n",
      "1. ID\n",
      "2. Время создания\n",
      "3. Отрасль/сфера деятельности: / Торговля и общественное питание\n",
      "4. Отрасль/сфера деятельности: / Материально-техническое снабжение и сбыт\n",
      "5. Отрасль/сфера деятельности: / Заготовки\n",
      "6. Отрасль/сфера деятельности: / Общая коммерческая деятельность по обеспечению функционирования рынка\n",
      "7. Отрасль/сфера деятельности: / Непроизводственные виды бытового обслуживания населения\n",
      "8. Отрасль/сфера деятельности: / Финансы, кредит, страхование, пенсионное обеспечение\n",
      "9. Отрасль/сфера деятельности: / Общественные объединения\n",
      "10. Вид организации: / федеральный орган исполнительной власти (или его подразделение)\n",
      "11. Вид организации: / орган исполнительной власти субъекта Российской Федерации (или его подразделение)\n",
      "12. Респондент (сотрудник организации, заполнивший форму), ФИО:\n",
      "13. Должность респондента  (сотрудника организации, заполнившего форму):\n",
      "14. Контактный электронный адрес организации:\n",
      "15. Контактный телефон организации:\n"
     ]
    }
   ],
   "source": [
    "print('Cтолбцы со 100% пропусками:\\n\\\n",
    "=========================================')\n",
    "cnt_null_col = 0\n",
    "for col in data.columns:\n",
    "    pct_missing = np.mean(data[col].isnull())\n",
    "    if pct_missing == 1:\n",
    "        cnt_null_col += 1\n",
    "        print('{}. {}'.format(cnt_null_col, col))"
   ]
  },
  {
   "cell_type": "markdown",
   "id": "5177b175-7110-44a7-9902-47074113510c",
   "metadata": {},
   "source": [
    "Данные об `ID`  и  `Время создания ` отсутствуют, с большой долей вероятности это из-за предоставления для публичного просмотра. Такие же причины могут быть и у других столбцов со 100% пропусками.\n",
    "\n",
    "На пропусках не будем заострять фокус по причине большого количества полей с ними. Просто  отмечаем этот факт, как требующий дополнительного исследования причин пропусков. Дополнительно отметим, что эти пропуски могут быть как естественными/нормальными, так и сигналом к поиску их причины.\n",
    "\n",
    "Проверить на наличие явных дубликатов без ключевого поля `ID` для компаний нельзя. Посмотрим есть ли совпадения по трем полям, в которых нет пропусков:\n",
    " - `Наименование организации: `\n",
    " - `Регион `  \n",
    " - `Город  ` "
   ]
  },
  {
   "cell_type": "code",
   "execution_count": 7,
   "id": "e7eda102-69c4-4b03-bf6a-e7905a1f13d9",
   "metadata": {},
   "outputs": [
    {
     "name": "stdout",
     "output_type": "stream",
     "text": [
      "Количество дубликатов по полям 'Наименование организации:', 'Регион', 'Город': 0 шт.\n"
     ]
    }
   ],
   "source": [
    "#посчитаем  дубликаты по конкретным полям\n",
    "print(f\"Количество дубликатов по полям \\\n",
    "'Наименование организации:', 'Регион', 'Город': \\\n",
    "{data[['Наименование организации:', 'Регион', 'Город']].\n",
    "duplicated().sum()} шт.\")"
   ]
  },
  {
   "cell_type": "code",
   "execution_count": 8,
   "id": "f72366ce-59f7-44cc-9bca-4bf258431a56",
   "metadata": {},
   "outputs": [],
   "source": [
    "# list(data.columns)"
   ]
  },
  {
   "cell_type": "markdown",
   "id": "dd3936a7-96ee-448f-8955-148c6614b277",
   "metadata": {},
   "source": [
    "Посчитаем уникальные значения в столбцах некоторых полей и посмотрим на уникальные значения одного полей.\n"
   ]
  },
  {
   "cell_type": "code",
   "execution_count": 9,
   "id": "8397ea11-6d70-4d0e-85d9-3faa6a0f6b91",
   "metadata": {},
   "outputs": [
    {
     "name": "stdout",
     "output_type": "stream",
     "text": [
      "Уникальных значений:\n",
      "79 в столбце: \"Наименование организации:\"\n",
      "29 в столбце: \"Регион\"\n",
      "57 в столбце: \"Город\"\n"
     ]
    }
   ],
   "source": [
    "col_list = ['Наименование организации:', \n",
    "            'Регион', \n",
    "            'Город']\n",
    "# Проверяем количество уникальные значения в столбцах всего датафрейма\n",
    "print('Уникальных значений:')\n",
    "for column in data[col_list]:\n",
    "    print(f'{data[column].nunique()} в столбце: \"{column}\"')\n"
   ]
  },
  {
   "cell_type": "code",
   "execution_count": 10,
   "id": "551e9d33-d7a6-4dd1-8ff2-7f14f6bad590",
   "metadata": {},
   "outputs": [
    {
     "data": {
      "text/plain": [
       "array([nan, 'Проектирование и изыскания', 'Частная организация',\n",
       "       'пенсионер с огромным опытом работ и знаниями за пределами действующих регламентов в технологиях завтрашнего дня.С опытом работ и преподавания геоинформационных дисциплин вв 12ти странах мира. с долгами по неоплате заказчиков - победителей госконтрактов.',\n",
       "       'Федеральное государственное бюджетное учреждение науки',\n",
       "       'Коммерческая организация', 'Коммерческая частная компания',\n",
       "       'Инженерные изыскания',\n",
       "       'Общество с ограниченной ответственностью ',\n",
       "       'Разработка компьютерного программного обеспечения',\n",
       "       'Проектирование и осуществление функций технического заказчика',\n",
       "       'Индивидуальный Предприниматель',\n",
       "       'Общество с ограниченной ответственностью',\n",
       "       'Индивидуальный предприниматель',\n",
       "       'Электромонтажные работы и обслуживание систем противопожарной безопасности',\n",
       "       'Общество с ограниченной ответственностью.', 'Стьроительство',\n",
       "       'частная собственность',\n",
       "       'ОБЩЕСТВО С ОГРАНИЧЕННОЙ ОТВЕТСТВЕННОСТЬЮ ', 'Юридическое лицо ',\n",
       "       'Юридическое лицо', 'Водоснабжение города', 'Строительство жилья',\n",
       "       'производство металлоконструкций, вт.ч. установок очистки сточных вод, производство тепла для нужд предприятия',\n",
       "       'Строительство автомобильных дорог и автомагистралей',\n",
       "       'Металлургия',\n",
       "       '35.30.1 Производство пара и горячей воды (тепловой энергии), \\n35.12 Передача электроэнергии и технологическое присоединение к распределительным электросетям\\n',\n",
       "       'Строительство', 'инспекционная и экспертная деятельность',\n",
       "       'Юр.лицо',\n",
       "       'архитектурно-градостроительная деятельность, кадастровая деятельность, геодезическая деятельность',\n",
       "       'Монтаж и эксплуатация инженерных сетей',\n",
       "       'индивидуальный предприниматель', 'ИП Трухавая А. А. ',\n",
       "       'Кадастр, строительство, геодезия',\n",
       "       'Муниципальное унитарное производственное предприятие', 'ООО',\n",
       "       'Частная собственность',\n",
       "       'Маркшейдерские услуги, Топографо-геодезические изыскания',\n",
       "       'инженерные изыскания', 'АО ',\n",
       "       'Проектирование, поставка, монтаж  и наладка электрооборудования и средств автоматизации.\\nИзготовление НКУ.\\n',\n",
       "       'Проектирование автомобильных дорог, строительство автомобильных дорог.',\n",
       "       'ОКВЭД 71.12.1',\n",
       "       'общество с ограниченной ответственностью (частная организация)',\n",
       "       'Проектные работы',\n",
       "       'Деятельность в области инженерных изысканий, инженерно-технического проектирования, управления проектами строительства.',\n",
       "       'Нефтегазодобыча'], dtype=object)"
      ]
     },
     "execution_count": 10,
     "metadata": {},
     "output_type": "execute_result"
    }
   ],
   "source": [
    "data['Вид деятельности организации'].unique()"
   ]
  },
  {
   "cell_type": "markdown",
   "id": "c68dd147-9920-416c-9a85-6fe8ddaa7677",
   "metadata": {},
   "source": [
    "Данные по полю `Вид деятельности организации` скорее всего внесены без выбора (введены вручную), что требует дополнительной обработки, группировки с предварительным пониманием того, что подразумевается под \"вид деятельности организации\". \n",
    "\n",
    "Даже при незначительных (80 организаций) размерах датасета данные внесены разные: форма собственности, юридическое оформление (ИП, ООО), оквэд в кодировке и расшифровке. А с увеличением строк увеличатся и ошибки и разброс данных. Из рекомендаций - зафиксировать виды деятельности и дать пользователю возможность выбирать, а не печатать данные.\n",
    "\n",
    "Стоит также проанализировать и другие поля на уровне формы для заполнения и во всех случаях, когда есть возможность указать список значений - сделать именно так."
   ]
  },
  {
   "cell_type": "markdown",
   "id": "70cb6293-b578-4c0f-a675-72ab4487bd0a",
   "metadata": {},
   "source": [
    "Посмотрим на целевые поля из референса, а именно нас интересуют \n",
    " - количество упоминаний по регионам в абсолютном и относительном значении\n",
    " - Подсчет значений  в Поле \"Знали ли вы о существовании такого продукта прежде?\" в абсолютном и относительном значении\n",
    " - Подсчет значений в Поле \"Существует ли потребность в данном продукте для решения специализированных задач подразделения и подведомственных организаций?\"\n"
   ]
  },
  {
   "cell_type": "code",
   "execution_count": 11,
   "id": "2fdc0ee1-ae68-44f7-a809-a20fa66752d9",
   "metadata": {
    "scrolled": true
   },
   "outputs": [
    {
     "name": "stdout",
     "output_type": "stream",
     "text": [
      "В поле: \"Знали ли вы о существовании такого продукта прежде?\"\n",
      "2 уникальных значения: ['Да', 'Нет']\n",
      "\n",
      "В поле: \"Существует ли потребность в данном продукте для решения специализированных задач подразделения и подведомственных организаций?\"\n",
      "4 уникальных значения: ['нет, потребность отсутствует', 'да (уже используем)', 'да (пока не используется, хотели бы использовать)', 'требуется более подробная информация о продукте', nan]\n",
      "\n",
      "В поле: \"Регион\"\n",
      "29 уникальных значения: ['Московская область', 'Санкт-Петербург', 'Новосибирская область', 'Краснодарский край', 'Москва', 'Тюменская область', 'Свердловская область', 'Сахалинская область', 'Иркутская область', 'Донецкая Народная Республика', 'Омская область', 'Самарская область', 'Амурская область', 'Волгоградская область', 'Кемеровская область - Кузбасс', 'Белгородская область', 'Республика Татарстан (Татарстан)', 'Пензенская область', 'Пермский край', 'Калужская область', 'Липецкая область', 'Мурманская область', 'Тамбовская область', 'Хабаровский край', 'Саратовская область', 'Красноярский край', 'Республика Хакасия', 'Тверская область', 'Алтайский край']\n",
      "\n"
     ]
    }
   ],
   "source": [
    "# в список фиксируем интересующие поля \n",
    "col_list = ['Знали ли вы о существовании такого продукта прежде?',\n",
    "            'Существует ли потребность в данном продукте для решения специализированных задач подразделения и подведомственных организаций?',\n",
    "            'Регион'\n",
    "           ]\n",
    "# смотрим какие уникальные значения в интересующих полях               \n",
    "for i, col in enumerate(col_list):\n",
    "    print('В поле: \"{}\"\\n{} уникальных значения: {}\\\n",
    "\\n'.format(col_list[i],\n",
    "         data[col].nunique(),\n",
    "         list(data[col].unique())\n",
    "        )    \n",
    "         )"
   ]
  },
  {
   "cell_type": "markdown",
   "id": "d061d080-e0c3-4789-bc90-d46879166972",
   "metadata": {},
   "source": [
    "Значения в полях не вызывают вопросов. \n",
    "# Цифровой ортофотоплан\n",
    "\n",
    "## Знали ли вы о существовании такого продукта прежде?\n",
    "Посчитаем количество ответов и их долю В поле: \"Знали ли вы о существовании такого продукта прежде?\""
   ]
  },
  {
   "cell_type": "code",
   "execution_count": 12,
   "id": "b1f680ca-0603-403b-80ce-763657698d84",
   "metadata": {},
   "outputs": [
    {
     "name": "stdout",
     "output_type": "stream",
     "text": [
      "Знали ли вы о существовании такого продукта прежде? \n",
      "Общее количество ответов: 80\n"
     ]
    },
    {
     "data": {
      "text/html": [
       "<div>\n",
       "<style scoped>\n",
       "    .dataframe tbody tr th:only-of-type {\n",
       "        vertical-align: middle;\n",
       "    }\n",
       "\n",
       "    .dataframe tbody tr th {\n",
       "        vertical-align: top;\n",
       "    }\n",
       "\n",
       "    .dataframe thead th {\n",
       "        text-align: right;\n",
       "    }\n",
       "</style>\n",
       "<table border=\"1\" class=\"dataframe\">\n",
       "  <thead>\n",
       "    <tr style=\"text-align: right;\">\n",
       "      <th></th>\n",
       "      <th>Ответ</th>\n",
       "      <th>Количество</th>\n",
       "      <th>Процент, %</th>\n",
       "    </tr>\n",
       "  </thead>\n",
       "  <tbody>\n",
       "    <tr>\n",
       "      <th>0</th>\n",
       "      <td>Да</td>\n",
       "      <td>48</td>\n",
       "      <td>60.0</td>\n",
       "    </tr>\n",
       "    <tr>\n",
       "      <th>1</th>\n",
       "      <td>Нет</td>\n",
       "      <td>32</td>\n",
       "      <td>40.0</td>\n",
       "    </tr>\n",
       "  </tbody>\n",
       "</table>\n",
       "</div>"
      ],
      "text/plain": [
       "  Ответ  Количество  Процент, %\n",
       "0    Да          48        60.0\n",
       "1   Нет          32        40.0"
      ]
     },
     "execution_count": 12,
     "metadata": {},
     "output_type": "execute_result"
    }
   ],
   "source": [
    "# для нужного поля по индексу из col_list посчитаем  нужное\n",
    "print(col_list[0],\n",
    "'\\nОбщее количество ответов:', data[col_list[0]].count(),     )\n",
    "\n",
    "answer1 = (data[col_list[0]]\n",
    "           .value_counts(dropna=False)\n",
    "           .reset_index())\n",
    "# переименуем поля\n",
    "answer1.columns = ['Ответ', 'Количество']\n",
    "answer1['Процент, %'] = round(\n",
    "    answer1['Количество'] / \n",
    "    answer1['Количество'].sum() * 100\n",
    "                         , 1)\n",
    "# посмотрим что получилос\n",
    "answer1"
   ]
  },
  {
   "cell_type": "markdown",
   "id": "badde563-2982-4647-bf62-1242b0be52bf",
   "metadata": {},
   "source": [
    "Добавим визуализацию пайчарт для полученных данных"
   ]
  },
  {
   "cell_type": "code",
   "execution_count": 13,
   "id": "b3c70515-197b-4b4d-8f82-fbf52a5c2791",
   "metadata": {},
   "outputs": [
    {
     "data": {
      "image/png": "[encoded data removed]",
      "text/plain": [
       "<Figure size 500x500 with 1 Axes>"
      ]
     },
     "metadata": {},
     "output_type": "display_data"
    }
   ],
   "source": [
    "# зададим размеры фигуры\n",
    "plt.figure(figsize=(5,5))\n",
    "# определим расстояние междучастями пайчарта\n",
    "explode = [0, 0.01] \n",
    "# определим цветовую палитру \n",
    "palette_color = sns.color_palette('Set1') \n",
    "  \n",
    "# задаем параметры для пайчарта\n",
    "plt.pie(answer1['Количество'], \n",
    "        labels=answer1['Ответ'], \n",
    "        colors=palette_color, \n",
    "        explode=explode, \n",
    "        startangle=65, # поворот пайчарта\n",
    "        autopct='%.0f%%') \n",
    " #подписываем график\n",
    "plt.title('Знали ли вы о существовании\\n такого продукта прежде? , %',\n",
    "         fontsize=14, fontweight=\"bold\")\n",
    "\n",
    "#выводим график\n",
    "plt.show()  "
   ]
  },
  {
   "cell_type": "markdown",
   "id": "c3e97d80-9bd4-4b56-ba06-d095777cb40d",
   "metadata": {},
   "source": [
    "60% респондентов утверждают, что знали о продукте прежде."
   ]
  },
  {
   "cell_type": "markdown",
   "id": "d430f6fd-e843-4955-b818-0ca37ea28296",
   "metadata": {},
   "source": [
    "## Существует ли потребность в данном продукте для решения специализированных задач подразделения и подведомственных организаций?\n"
   ]
  },
  {
   "cell_type": "code",
   "execution_count": 14,
   "id": "eba3012d-115a-498d-8139-82eaef6a9291",
   "metadata": {},
   "outputs": [
    {
     "name": "stdout",
     "output_type": "stream",
     "text": [
      "Существует ли потребность в данном продукте для решения специализированных задач подразделения и подведомственных организаций? \n",
      "Общее количество ответов: 79\n"
     ]
    },
    {
     "data": {
      "text/html": [
       "<div>\n",
       "<style scoped>\n",
       "    .dataframe tbody tr th:only-of-type {\n",
       "        vertical-align: middle;\n",
       "    }\n",
       "\n",
       "    .dataframe tbody tr th {\n",
       "        vertical-align: top;\n",
       "    }\n",
       "\n",
       "    .dataframe thead th {\n",
       "        text-align: right;\n",
       "    }\n",
       "</style>\n",
       "<table border=\"1\" class=\"dataframe\">\n",
       "  <thead>\n",
       "    <tr style=\"text-align: right;\">\n",
       "      <th></th>\n",
       "      <th>Значение</th>\n",
       "      <th>Количество</th>\n",
       "      <th>Процент, %</th>\n",
       "    </tr>\n",
       "  </thead>\n",
       "  <tbody>\n",
       "    <tr>\n",
       "      <th>0</th>\n",
       "      <td>нет, потребность отсутствует</td>\n",
       "      <td>30</td>\n",
       "      <td>37.97</td>\n",
       "    </tr>\n",
       "    <tr>\n",
       "      <th>1</th>\n",
       "      <td>да (пока не используется, хотели бы использовать)</td>\n",
       "      <td>26</td>\n",
       "      <td>32.91</td>\n",
       "    </tr>\n",
       "    <tr>\n",
       "      <th>2</th>\n",
       "      <td>да (уже используем)</td>\n",
       "      <td>19</td>\n",
       "      <td>24.05</td>\n",
       "    </tr>\n",
       "    <tr>\n",
       "      <th>3</th>\n",
       "      <td>требуется более подробная информация о продукте</td>\n",
       "      <td>4</td>\n",
       "      <td>5.06</td>\n",
       "    </tr>\n",
       "  </tbody>\n",
       "</table>\n",
       "</div>"
      ],
      "text/plain": [
       "                                            Значение  Количество  Процент, %\n",
       "0                       нет, потребность отсутствует          30       37.97\n",
       "1  да (пока не используется, хотели бы использовать)          26       32.91\n",
       "2                                да (уже используем)          19       24.05\n",
       "3    требуется более подробная информация о продукте           4        5.06"
      ]
     },
     "execution_count": 14,
     "metadata": {},
     "output_type": "execute_result"
    }
   ],
   "source": [
    "# для нужного поля по индексу из col_list посчитаем  нужное\n",
    "print(col_list[1],\n",
    "'\\nОбщее количество ответов:', data[col_list[1]].count())\n",
    "# сгруппируем ответы, избавимся от пропусков\n",
    "answer2 = (data[col_list[1]]\n",
    "           .value_counts(dropna=True)\n",
    "           .reset_index())\n",
    "# переименуем поля\n",
    "answer2.columns = ['Значение', 'Количество']\n",
    "answer2['Процент, %'] = round(\n",
    "    answer2['Количество'] / \n",
    "    answer2['Количество'].sum() * 100\n",
    "                         , 2)\n",
    "# посмотрим что получилос\n",
    "answer2"
   ]
  },
  {
   "cell_type": "markdown",
   "id": "8265f0b3-9fae-42bb-856c-9bd043535b09",
   "metadata": {},
   "source": [
    "Добавим визуализациидля получившейся информации: диаграмму и пайчарт."
   ]
  },
  {
   "cell_type": "code",
   "execution_count": 15,
   "id": "2b602919-c0a6-4c90-9e90-f4c7f8911453",
   "metadata": {},
   "outputs": [
    {
     "data": {
      "image/png": "[encoded data removed]",
      "text/plain": [
       "<Figure size 500x500 with 1 Axes>"
      ]
     },
     "metadata": {},
     "output_type": "display_data"
    }
   ],
   "source": [
    "# зададим размеры фигуры\n",
    "plt.figure(figsize=(5,5))\n",
    "# определим расстояние междучастями пайчарта\n",
    "explode = [0.01, 0.01, 0.01, 0.01] \n",
    "# определим цветовую палитру \n",
    "palette_color = sns.color_palette('Set1') \n",
    "  \n",
    "# задаем параметры для пайчарта\n",
    "plt.pie(answer2['Количество'], \n",
    "        labels=answer2['Значение'], \n",
    "        colors=palette_color, \n",
    "        explode=explode,\n",
    "        startangle=125, # поворот пайчарта\n",
    "        autopct='%.0f%%') \n",
    " #подписываем график\n",
    "plt.title('Существует ли потребность в данном продукте? , %',\n",
    "         fontsize=14, fontweight=\"bold\")\n",
    "\n",
    "#выводим график\n",
    "plt.show()  "
   ]
  },
  {
   "cell_type": "code",
   "execution_count": 16,
   "id": "e2028f55-8789-46e4-8859-2e02be0fbc5d",
   "metadata": {
    "scrolled": true
   },
   "outputs": [
    {
     "data": {
      "image/png": "[encoded data removed]",
      "text/plain": [
       "<Figure size 600x400 with 1 Axes>"
      ]
     },
     "metadata": {},
     "output_type": "display_data"
    }
   ],
   "source": [
    "#строим график\n",
    "plt.figure(figsize=(6,4))\n",
    "\n",
    "sns.barplot(data=answer2,\n",
    "            y='Значение', \n",
    "            x='Процент, %',\n",
    "            color='#447D9B',       # цвет столбцов\n",
    "            edgecolor='k',\n",
    "            linewidth=1.5,\n",
    "            legend='auto',\n",
    "            alpha=0.9)\n",
    "           \n",
    "#подписываем график\n",
    "plt.title('Существует ли потребность в данном продукте? , %\\n',\n",
    "         fontsize=16, fontweight=\"bold\")\n",
    "\n",
    "#добавляем подписи по осям Х,убираем по оси У\n",
    "plt.ylabel('')\n",
    "plt.xlabel('%',fontsize = 16, fontweight ='bold')\n",
    "           \n",
    "#уберем границы в графике\n",
    "sns.despine()\n",
    "#выводим график\n",
    "plt.show()"
   ]
  },
  {
   "cell_type": "markdown",
   "id": "8556c520-d663-44f1-b5aa-46e2b69e50c3",
   "metadata": {},
   "source": [
    "# Регионы\n",
    "Загрузим данные с геоточками, геополигонами, кодом, чтобы потом сопоставить названия регионов и соединить данные состатистикой и геоинформацию."
   ]
  },
  {
   "cell_type": "code",
   "execution_count": 48,
   "id": "4264017d-dcc7-42f0-990f-5090b6b2e320",
   "metadata": {
    "scrolled": true
   },
   "outputs": [
    {
     "data": {
      "text/html": [
       "<div>\n",
       "<style scoped>\n",
       "    .dataframe tbody tr th:only-of-type {\n",
       "        vertical-align: middle;\n",
       "    }\n",
       "\n",
       "    .dataframe tbody tr th {\n",
       "        vertical-align: top;\n",
       "    }\n",
       "\n",
       "    .dataframe thead th {\n",
       "        text-align: right;\n",
       "    }\n",
       "</style>\n",
       "<table border=\"1\" class=\"dataframe\">\n",
       "  <thead>\n",
       "    <tr style=\"text-align: right;\">\n",
       "      <th></th>\n",
       "      <th>id</th>\n",
       "      <th>region</th>\n",
       "      <th>coords</th>\n",
       "    </tr>\n",
       "  </thead>\n",
       "  <tbody>\n",
       "    <tr>\n",
       "      <th>76</th>\n",
       "      <td>69</td>\n",
       "      <td>Сахалинская область</td>\n",
       "      <td>[[[46.4051481123399,142.82388437012776],[46.39...</td>\n",
       "    </tr>\n",
       "  </tbody>\n",
       "</table>\n",
       "</div>"
      ],
      "text/plain": [
       "    id               region                                             coords\n",
       "76  69  Сахалинская область  [[[46.4051481123399,142.82388437012776],[46.39..."
      ]
     },
     "execution_count": 48,
     "metadata": {},
     "output_type": "execute_result"
    }
   ],
   "source": [
    "# записываем в датафрейм файл\n",
    "geo_region= pd.read_csv('files/ru_geopoligons_reg.csv', sep=';')\n",
    "# смотрим на случайную строку\n",
    "geo_region.sample(n=1, random_state=42)\n",
    "    "
   ]
  },
  {
   "cell_type": "markdown",
   "id": "5b5588d7-bad9-45ef-a9f8-46755d523c65",
   "metadata": {},
   "source": [
    "Сгруппируем данные по регионам из датасета `data` с опросом "
   ]
  },
  {
   "cell_type": "code",
   "execution_count": 49,
   "id": "d3b9eb3b-1cf2-42f2-9ea5-e76a94857d34",
   "metadata": {},
   "outputs": [
    {
     "data": {
      "text/html": [
       "<div>\n",
       "<style scoped>\n",
       "    .dataframe tbody tr th:only-of-type {\n",
       "        vertical-align: middle;\n",
       "    }\n",
       "\n",
       "    .dataframe tbody tr th {\n",
       "        vertical-align: top;\n",
       "    }\n",
       "\n",
       "    .dataframe thead th {\n",
       "        text-align: right;\n",
       "    }\n",
       "</style>\n",
       "<table border=\"1\" class=\"dataframe\">\n",
       "  <thead>\n",
       "    <tr style=\"text-align: right;\">\n",
       "      <th></th>\n",
       "      <th>Регион</th>\n",
       "      <th>Количество</th>\n",
       "      <th>Процент, %</th>\n",
       "    </tr>\n",
       "  </thead>\n",
       "  <tbody>\n",
       "    <tr>\n",
       "      <th>0</th>\n",
       "      <td>Пензенская область</td>\n",
       "      <td>12</td>\n",
       "      <td>15.00</td>\n",
       "    </tr>\n",
       "    <tr>\n",
       "      <th>1</th>\n",
       "      <td>Москва</td>\n",
       "      <td>8</td>\n",
       "      <td>10.00</td>\n",
       "    </tr>\n",
       "    <tr>\n",
       "      <th>2</th>\n",
       "      <td>Краснодарский край</td>\n",
       "      <td>6</td>\n",
       "      <td>7.50</td>\n",
       "    </tr>\n",
       "    <tr>\n",
       "      <th>3</th>\n",
       "      <td>Московская область</td>\n",
       "      <td>5</td>\n",
       "      <td>6.25</td>\n",
       "    </tr>\n",
       "    <tr>\n",
       "      <th>4</th>\n",
       "      <td>Калужская область</td>\n",
       "      <td>5</td>\n",
       "      <td>6.25</td>\n",
       "    </tr>\n",
       "    <tr>\n",
       "      <th>5</th>\n",
       "      <td>Кемеровская область - Кузбасс</td>\n",
       "      <td>5</td>\n",
       "      <td>6.25</td>\n",
       "    </tr>\n",
       "    <tr>\n",
       "      <th>6</th>\n",
       "      <td>Пермский край</td>\n",
       "      <td>4</td>\n",
       "      <td>5.00</td>\n",
       "    </tr>\n",
       "    <tr>\n",
       "      <th>7</th>\n",
       "      <td>Липецкая область</td>\n",
       "      <td>4</td>\n",
       "      <td>5.00</td>\n",
       "    </tr>\n",
       "    <tr>\n",
       "      <th>8</th>\n",
       "      <td>Республика Татарстан (Татарстан)</td>\n",
       "      <td>3</td>\n",
       "      <td>3.75</td>\n",
       "    </tr>\n",
       "    <tr>\n",
       "      <th>9</th>\n",
       "      <td>Новосибирская область</td>\n",
       "      <td>3</td>\n",
       "      <td>3.75</td>\n",
       "    </tr>\n",
       "    <tr>\n",
       "      <th>10</th>\n",
       "      <td>Свердловская область</td>\n",
       "      <td>2</td>\n",
       "      <td>2.50</td>\n",
       "    </tr>\n",
       "    <tr>\n",
       "      <th>11</th>\n",
       "      <td>Самарская область</td>\n",
       "      <td>2</td>\n",
       "      <td>2.50</td>\n",
       "    </tr>\n",
       "    <tr>\n",
       "      <th>12</th>\n",
       "      <td>Саратовская область</td>\n",
       "      <td>2</td>\n",
       "      <td>2.50</td>\n",
       "    </tr>\n",
       "    <tr>\n",
       "      <th>13</th>\n",
       "      <td>Волгоградская область</td>\n",
       "      <td>2</td>\n",
       "      <td>2.50</td>\n",
       "    </tr>\n",
       "    <tr>\n",
       "      <th>14</th>\n",
       "      <td>Санкт-Петербург</td>\n",
       "      <td>2</td>\n",
       "      <td>2.50</td>\n",
       "    </tr>\n",
       "    <tr>\n",
       "      <th>15</th>\n",
       "      <td>Белгородская область</td>\n",
       "      <td>2</td>\n",
       "      <td>2.50</td>\n",
       "    </tr>\n",
       "    <tr>\n",
       "      <th>16</th>\n",
       "      <td>Тамбовская область</td>\n",
       "      <td>1</td>\n",
       "      <td>1.25</td>\n",
       "    </tr>\n",
       "    <tr>\n",
       "      <th>17</th>\n",
       "      <td>Тверская область</td>\n",
       "      <td>1</td>\n",
       "      <td>1.25</td>\n",
       "    </tr>\n",
       "    <tr>\n",
       "      <th>18</th>\n",
       "      <td>Республика Хакасия</td>\n",
       "      <td>1</td>\n",
       "      <td>1.25</td>\n",
       "    </tr>\n",
       "    <tr>\n",
       "      <th>19</th>\n",
       "      <td>Красноярский край</td>\n",
       "      <td>1</td>\n",
       "      <td>1.25</td>\n",
       "    </tr>\n",
       "    <tr>\n",
       "      <th>20</th>\n",
       "      <td>Хабаровский край</td>\n",
       "      <td>1</td>\n",
       "      <td>1.25</td>\n",
       "    </tr>\n",
       "    <tr>\n",
       "      <th>21</th>\n",
       "      <td>Тюменская область</td>\n",
       "      <td>1</td>\n",
       "      <td>1.25</td>\n",
       "    </tr>\n",
       "    <tr>\n",
       "      <th>22</th>\n",
       "      <td>Мурманская область</td>\n",
       "      <td>1</td>\n",
       "      <td>1.25</td>\n",
       "    </tr>\n",
       "    <tr>\n",
       "      <th>23</th>\n",
       "      <td>Сахалинская область</td>\n",
       "      <td>1</td>\n",
       "      <td>1.25</td>\n",
       "    </tr>\n",
       "    <tr>\n",
       "      <th>24</th>\n",
       "      <td>Амурская область</td>\n",
       "      <td>1</td>\n",
       "      <td>1.25</td>\n",
       "    </tr>\n",
       "    <tr>\n",
       "      <th>25</th>\n",
       "      <td>Омская область</td>\n",
       "      <td>1</td>\n",
       "      <td>1.25</td>\n",
       "    </tr>\n",
       "    <tr>\n",
       "      <th>26</th>\n",
       "      <td>Донецкая Народная Республика</td>\n",
       "      <td>1</td>\n",
       "      <td>1.25</td>\n",
       "    </tr>\n",
       "    <tr>\n",
       "      <th>27</th>\n",
       "      <td>Иркутская область</td>\n",
       "      <td>1</td>\n",
       "      <td>1.25</td>\n",
       "    </tr>\n",
       "    <tr>\n",
       "      <th>28</th>\n",
       "      <td>Алтайский край</td>\n",
       "      <td>1</td>\n",
       "      <td>1.25</td>\n",
       "    </tr>\n",
       "  </tbody>\n",
       "</table>\n",
       "</div>"
      ],
      "text/plain": [
       "                              Регион  Количество  Процент, %\n",
       "0                 Пензенская область          12       15.00\n",
       "1                             Москва           8       10.00\n",
       "2                 Краснодарский край           6        7.50\n",
       "3                 Московская область           5        6.25\n",
       "4                  Калужская область           5        6.25\n",
       "5      Кемеровская область - Кузбасс           5        6.25\n",
       "6                      Пермский край           4        5.00\n",
       "7                   Липецкая область           4        5.00\n",
       "8   Республика Татарстан (Татарстан)           3        3.75\n",
       "9              Новосибирская область           3        3.75\n",
       "10              Свердловская область           2        2.50\n",
       "11                 Самарская область           2        2.50\n",
       "12               Саратовская область           2        2.50\n",
       "13             Волгоградская область           2        2.50\n",
       "14                   Санкт-Петербург           2        2.50\n",
       "15              Белгородская область           2        2.50\n",
       "16                Тамбовская область           1        1.25\n",
       "17                  Тверская область           1        1.25\n",
       "18                Республика Хакасия           1        1.25\n",
       "19                 Красноярский край           1        1.25\n",
       "20                  Хабаровский край           1        1.25\n",
       "21                 Тюменская область           1        1.25\n",
       "22                Мурманская область           1        1.25\n",
       "23               Сахалинская область           1        1.25\n",
       "24                  Амурская область           1        1.25\n",
       "25                    Омская область           1        1.25\n",
       "26      Донецкая Народная Республика           1        1.25\n",
       "27                 Иркутская область           1        1.25\n",
       "28                    Алтайский край           1        1.25"
      ]
     },
     "execution_count": 49,
     "metadata": {},
     "output_type": "execute_result"
    }
   ],
   "source": [
    "regions_stat = data['Регион'].copy(deep=True)\n",
    "regions_stat = (data['Регион']\n",
    "                .value_counts()\n",
    "                .reset_index()\n",
    "                .rename(columns={'count': \"Количество\"})\n",
    "               )\n",
    "\n",
    "regions_stat['Процент, %'] = (\n",
    "    round(regions_stat['Количество'] / \n",
    "    regions_stat['Количество'].sum() * 100, 2)\n",
    "                             )\n",
    "regions_stat"
   ]
  },
  {
   "cell_type": "markdown",
   "id": "d77977fb-60f1-478f-a2ee-48425826923f",
   "metadata": {},
   "source": [
    "Напишем функцию set_compare, которая поможет сравнить уникальные значения в сериях данных из  датафреймов data и geo_region  с помощью множеств.\n",
    "\n",
    "Функция set_compare для сравнения множеств"
   ]
  },
  {
   "cell_type": "code",
   "execution_count": 50,
   "id": "d33cb6e4-c667-4d6a-b406-ce3100a98518",
   "metadata": {},
   "outputs": [],
   "source": [
    "def set_compare(series_a, series_b):\n",
    "    '''\n",
    "    series_a - данные по регионам в исходном датасете\n",
    "    series_b - данные по регионам из геоданных загруженных из сети\n",
    "    '''\n",
    "    set_a = set(series_a)\n",
    "    set_b = set(series_b)\n",
    "\n",
    "    print(\"Уникальных значений в исходном датафрейме: \\\n",
    "{}.\".format(len(set_a)))\n",
    "    print(\"Уникальных общих значений {}.\\\n",
    "\".format(len(set_a & set_b)))   \n",
    "    print(\"Нет совпадений по регионам:\\n\", set_a.difference(set_b))"
   ]
  },
  {
   "cell_type": "code",
   "execution_count": 51,
   "id": "a5e76819-7bdb-4ded-9cf5-c654d93aeb3a",
   "metadata": {},
   "outputs": [
    {
     "name": "stdout",
     "output_type": "stream",
     "text": [
      "Уникальных значений в исходном датафрейме: 29.\n",
      "Уникальных общих значений 27.\n",
      "Нет совпадений по регионам:\n",
      " {'Республика Хакасия', 'Кемеровская область - Кузбасс'}\n"
     ]
    }
   ],
   "source": [
    "# сравниваем\n",
    "set_compare(    \n",
    "    regions_stat['Регион'], \n",
    "    geo_region['region'])"
   ]
  },
  {
   "cell_type": "markdown",
   "id": "c631db11-bc3c-4163-8245-c90a2223a8b7",
   "metadata": {},
   "source": [
    "Приведем в соответствие названия чтобы названия регионов были идентичны. Поправим данные в датафрейме regions_stat"
   ]
  },
  {
   "cell_type": "code",
   "execution_count": 28,
   "id": "de696f2d-7bb3-4864-905b-67e8550b5083",
   "metadata": {},
   "outputs": [
    {
     "data": {
      "text/plain": [
       "['Алтайский край',\n",
       " 'Астраханская область',\n",
       " 'Белгородская область',\n",
       " 'Брянская область',\n",
       " 'Владимирская область',\n",
       " 'Волгоградская область',\n",
       " 'Воронежская область',\n",
       " 'Еврейская автономная область',\n",
       " 'Ивановская область',\n",
       " 'Калининградская область',\n",
       " 'Калужская область',\n",
       " 'Кемеровская область',\n",
       " 'Костромская область',\n",
       " 'Краснодарский край',\n",
       " 'Курганская область',\n",
       " 'Курская область',\n",
       " 'Ленинградская область',\n",
       " 'Липецкая область',\n",
       " 'Москва',\n",
       " 'Мурманская область',\n",
       " 'Ненецкий автономный округ',\n",
       " 'Нижегородская область',\n",
       " 'Новгородская область',\n",
       " 'Новосибирская область',\n",
       " 'Омская область',\n",
       " 'Орловская область',\n",
       " 'Пензенская область',\n",
       " 'Пермский край',\n",
       " 'Приморский край',\n",
       " 'Псковская область',\n",
       " 'Ростовская область',\n",
       " 'Рязанская область',\n",
       " 'Самарская область',\n",
       " 'Санкт-Петербург',\n",
       " 'Саратовская область',\n",
       " 'Сахалинская область',\n",
       " 'Свердловская область',\n",
       " 'Севастополь',\n",
       " 'Смоленская область',\n",
       " 'Ставропольский край',\n",
       " 'Тамбовская область',\n",
       " 'Томская область',\n",
       " 'Тульская область',\n",
       " 'Тюменская область',\n",
       " 'Ульяновская область',\n",
       " 'Челябинская область',\n",
       " 'Чукотский автономный округ',\n",
       " 'Ярославская область',\n",
       " 'республика Адыгея',\n",
       " 'республика Алтай',\n",
       " 'республика Дагестан',\n",
       " 'республика Ингушетия',\n",
       " 'республика Кабардино-Балкария',\n",
       " 'республика Калмыкия',\n",
       " 'республика Карачаево-Черкесия',\n",
       " 'республика Карелия',\n",
       " 'республика Крым',\n",
       " 'республика Марий Эл',\n",
       " 'республика Мордовия',\n",
       " 'республика Северная Осетия - Алания',\n",
       " 'республика Тыва',\n",
       " 'республика Удмуртия',\n",
       " 'республика Хакасия',\n",
       " 'республика Чечня',\n",
       " 'республика Чувашия']"
      ]
     },
     "execution_count": 28,
     "metadata": {},
     "output_type": "execute_result"
    }
   ],
   "source": [
    "sorted(list(geo_region['region']))"
   ]
  },
  {
   "cell_type": "code",
   "execution_count": 54,
   "id": "81fc238b-339f-49fa-ad4a-2f8e03dbe32b",
   "metadata": {},
   "outputs": [],
   "source": [
    "regions_stat['Регион'] = regions_stat['Регион'].replace(\n",
    "    {'Республика Хакасия': 'республика Хакасия', \n",
    "    'Кемеровская область - Кузбасс': 'Кемеровская область'})"
   ]
  },
  {
   "cell_type": "code",
   "execution_count": 56,
   "id": "9db34aaf-45f7-4881-b125-0bfdd8f54204",
   "metadata": {},
   "outputs": [
    {
     "name": "stdout",
     "output_type": "stream",
     "text": [
      "Уникальных значений в исходном датафрейме: 29.\n",
      "Уникальных общих значений 29.\n",
      "Нет совпадений по регионам:\n",
      " set()\n"
     ]
    }
   ],
   "source": [
    "# сравниваем\n",
    "set_compare(    \n",
    "    regions_stat['Регион'], \n",
    "    geo_region['region'])"
   ]
  },
  {
   "cell_type": "markdown",
   "id": "170b2557-2100-405b-af84-045b4b0b702b",
   "metadata": {},
   "source": [
    "Дополним датафрейм regions_stat геоданными "
   ]
  },
  {
   "cell_type": "code",
   "execution_count": 59,
   "id": "769816a8-dd70-451b-90a0-9490790c97e8",
   "metadata": {},
   "outputs": [],
   "source": [
    "regions_stat = regions_stat.merge(geo_region, \n",
    "                                  how='left', \n",
    "                                  left_on='Регион',\n",
    "                                  right_on=\"region\",\n",
    "                                  left_index=False, \n",
    "                                  right_index=False, \n",
    "                                  sort=False)"
   ]
  },
  {
   "cell_type": "code",
   "execution_count": 60,
   "id": "8200ccd0-3792-4be8-a22d-8236754c4eb5",
   "metadata": {
    "scrolled": true
   },
   "outputs": [
    {
     "name": "stdout",
     "output_type": "stream",
     "text": [
      "Регион\n",
      "Общее количество заполненных ответов 80\n"
     ]
    },
    {
     "data": {
      "text/html": [
       "<div>\n",
       "<style scoped>\n",
       "    .dataframe tbody tr th:only-of-type {\n",
       "        vertical-align: middle;\n",
       "    }\n",
       "\n",
       "    .dataframe tbody tr th {\n",
       "        vertical-align: top;\n",
       "    }\n",
       "\n",
       "    .dataframe thead th {\n",
       "        text-align: right;\n",
       "    }\n",
       "</style>\n",
       "<table border=\"1\" class=\"dataframe\">\n",
       "  <thead>\n",
       "    <tr style=\"text-align: right;\">\n",
       "      <th></th>\n",
       "      <th>Регион</th>\n",
       "      <th>Количество</th>\n",
       "      <th>Процент, %</th>\n",
       "      <th>id</th>\n",
       "      <th>region</th>\n",
       "      <th>coords</th>\n",
       "    </tr>\n",
       "  </thead>\n",
       "  <tbody>\n",
       "    <tr>\n",
       "      <th>0</th>\n",
       "      <td>Пензенская область</td>\n",
       "      <td>12</td>\n",
       "      <td>15.00</td>\n",
       "      <td>38</td>\n",
       "      <td>Пензенская область</td>\n",
       "      <td>[[[54.02125290009443,45.96395700014443],[54.01...</td>\n",
       "    </tr>\n",
       "    <tr>\n",
       "      <th>1</th>\n",
       "      <td>Москва</td>\n",
       "      <td>8</td>\n",
       "      <td>10.00</td>\n",
       "      <td>28</td>\n",
       "      <td>Москва</td>\n",
       "      <td>[[[55.437474200236245,37.505423400232424],[55....</td>\n",
       "    </tr>\n",
       "    <tr>\n",
       "      <th>2</th>\n",
       "      <td>Краснодарский край</td>\n",
       "      <td>6</td>\n",
       "      <td>7.50</td>\n",
       "      <td>21</td>\n",
       "      <td>Краснодарский край</td>\n",
       "      <td>[[[46.826136800150955,38.685738699590026],[46....</td>\n",
       "    </tr>\n",
       "    <tr>\n",
       "      <th>3</th>\n",
       "      <td>Московская область</td>\n",
       "      <td>5</td>\n",
       "      <td>6.25</td>\n",
       "      <td>29</td>\n",
       "      <td>Московская область</td>\n",
       "      <td>[[[55.44980949998922,37.49815720008871],[55.44...</td>\n",
       "    </tr>\n",
       "    <tr>\n",
       "      <th>4</th>\n",
       "      <td>Калужская область</td>\n",
       "      <td>5</td>\n",
       "      <td>6.25</td>\n",
       "      <td>16</td>\n",
       "      <td>Калужская область</td>\n",
       "      <td>[[[54.39802479978628,33.60958310030351],[54.40...</td>\n",
       "    </tr>\n",
       "    <tr>\n",
       "      <th>5</th>\n",
       "      <td>Кемеровская область</td>\n",
       "      <td>5</td>\n",
       "      <td>6.25</td>\n",
       "      <td>18</td>\n",
       "      <td>Кемеровская область</td>\n",
       "      <td>[[[53.49523807596701,86.89818609990009],[53.47...</td>\n",
       "    </tr>\n",
       "    <tr>\n",
       "      <th>6</th>\n",
       "      <td>Пермский край</td>\n",
       "      <td>4</td>\n",
       "      <td>5.00</td>\n",
       "      <td>39</td>\n",
       "      <td>Пермский край</td>\n",
       "      <td>[[[60.223260099883014,52.3278556000364],[60.22...</td>\n",
       "    </tr>\n",
       "    <tr>\n",
       "      <th>7</th>\n",
       "      <td>Липецкая область</td>\n",
       "      <td>4</td>\n",
       "      <td>5.00</td>\n",
       "      <td>26</td>\n",
       "      <td>Липецкая область</td>\n",
       "      <td>[[[53.583009499908066,39.75874250017173],[53.5...</td>\n",
       "    </tr>\n",
       "    <tr>\n",
       "      <th>8</th>\n",
       "      <td>Республика Татарстан (Татарстан)</td>\n",
       "      <td>3</td>\n",
       "      <td>3.75</td>\n",
       "      <td>99</td>\n",
       "      <td>Республика Татарстан (Татарстан)</td>\n",
       "      <td>[[[54.85063, 47.313585], [54.850343, 47.315738...</td>\n",
       "    </tr>\n",
       "    <tr>\n",
       "      <th>9</th>\n",
       "      <td>Новосибирская область</td>\n",
       "      <td>3</td>\n",
       "      <td>3.75</td>\n",
       "      <td>34</td>\n",
       "      <td>Новосибирская область</td>\n",
       "      <td>[[[57.21549820004833,76.69789469981929],[57.16...</td>\n",
       "    </tr>\n",
       "    <tr>\n",
       "      <th>10</th>\n",
       "      <td>Свердловская область</td>\n",
       "      <td>2</td>\n",
       "      <td>2.50</td>\n",
       "      <td>70</td>\n",
       "      <td>Свердловская область</td>\n",
       "      <td>[[[61.93689460018422,59.50715339959381],[61.93...</td>\n",
       "    </tr>\n",
       "    <tr>\n",
       "      <th>11</th>\n",
       "      <td>Самарская область</td>\n",
       "      <td>2</td>\n",
       "      <td>2.50</td>\n",
       "      <td>66</td>\n",
       "      <td>Самарская область</td>\n",
       "      <td>[[[54.67642609980043,51.38997859973747],[54.66...</td>\n",
       "    </tr>\n",
       "    <tr>\n",
       "      <th>12</th>\n",
       "      <td>Саратовская область</td>\n",
       "      <td>2</td>\n",
       "      <td>2.50</td>\n",
       "      <td>68</td>\n",
       "      <td>Саратовская область</td>\n",
       "      <td>[[[52.81440689976361,48.42863240015605],[52.76...</td>\n",
       "    </tr>\n",
       "    <tr>\n",
       "      <th>13</th>\n",
       "      <td>Волгоградская область</td>\n",
       "      <td>2</td>\n",
       "      <td>2.50</td>\n",
       "      <td>8</td>\n",
       "      <td>Волгоградская область</td>\n",
       "      <td>[[[51.236738000209975,42.748845399745115],[51....</td>\n",
       "    </tr>\n",
       "    <tr>\n",
       "      <th>14</th>\n",
       "      <td>Санкт-Петербург</td>\n",
       "      <td>2</td>\n",
       "      <td>2.50</td>\n",
       "      <td>67</td>\n",
       "      <td>Санкт-Петербург</td>\n",
       "      <td>[[[60.17096000020522,29.456615099771334],[60.1...</td>\n",
       "    </tr>\n",
       "    <tr>\n",
       "      <th>15</th>\n",
       "      <td>Белгородская область</td>\n",
       "      <td>2</td>\n",
       "      <td>2.50</td>\n",
       "      <td>5</td>\n",
       "      <td>Белгородская область</td>\n",
       "      <td>[[[51.43028730004959,37.853398199829165],[51.4...</td>\n",
       "    </tr>\n",
       "    <tr>\n",
       "      <th>16</th>\n",
       "      <td>Тамбовская область</td>\n",
       "      <td>1</td>\n",
       "      <td>1.25</td>\n",
       "      <td>74</td>\n",
       "      <td>Тамбовская область</td>\n",
       "      <td>[[[53.81498639985928,42.03448269979637],[53.80...</td>\n",
       "    </tr>\n",
       "    <tr>\n",
       "      <th>17</th>\n",
       "      <td>Тверская область</td>\n",
       "      <td>1</td>\n",
       "      <td>1.25</td>\n",
       "      <td>75</td>\n",
       "      <td>Тверская область</td>\n",
       "      <td>[[[58.838661600134905,37.12891640041302],[58.8...</td>\n",
       "    </tr>\n",
       "    <tr>\n",
       "      <th>18</th>\n",
       "      <td>республика Хакасия</td>\n",
       "      <td>1</td>\n",
       "      <td>1.25</td>\n",
       "      <td>61</td>\n",
       "      <td>республика Хакасия</td>\n",
       "      <td>[[[55.43787770021227,88.66892389968086],[55.43...</td>\n",
       "    </tr>\n",
       "    <tr>\n",
       "      <th>19</th>\n",
       "      <td>Красноярский край</td>\n",
       "      <td>1</td>\n",
       "      <td>1.25</td>\n",
       "      <td>22</td>\n",
       "      <td>Красноярский край</td>\n",
       "      <td>[[[77.36436570001685,108.63862979986564],[77.3...</td>\n",
       "    </tr>\n",
       "    <tr>\n",
       "      <th>20</th>\n",
       "      <td>Хабаровский край</td>\n",
       "      <td>1</td>\n",
       "      <td>1.25</td>\n",
       "      <td>80</td>\n",
       "      <td>Хабаровский край</td>\n",
       "      <td>[[[62.52362729999859,140.85427419999883],[62.5...</td>\n",
       "    </tr>\n",
       "    <tr>\n",
       "      <th>21</th>\n",
       "      <td>Тюменская область</td>\n",
       "      <td>1</td>\n",
       "      <td>1.25</td>\n",
       "      <td>78</td>\n",
       "      <td>Тюменская область</td>\n",
       "      <td>[[[59.92418819983451,69.64384500012874],[59.90...</td>\n",
       "    </tr>\n",
       "    <tr>\n",
       "      <th>22</th>\n",
       "      <td>Мурманская область</td>\n",
       "      <td>1</td>\n",
       "      <td>1.25</td>\n",
       "      <td>30</td>\n",
       "      <td>Мурманская область</td>\n",
       "      <td>[[[69.82686869991925,33.618783199879104],[69.5...</td>\n",
       "    </tr>\n",
       "    <tr>\n",
       "      <th>23</th>\n",
       "      <td>Сахалинская область</td>\n",
       "      <td>1</td>\n",
       "      <td>1.25</td>\n",
       "      <td>69</td>\n",
       "      <td>Сахалинская область</td>\n",
       "      <td>[[[46.4051481123399,142.82388437012776],[46.39...</td>\n",
       "    </tr>\n",
       "    <tr>\n",
       "      <th>24</th>\n",
       "      <td>Амурская область</td>\n",
       "      <td>1</td>\n",
       "      <td>1.25</td>\n",
       "      <td>2</td>\n",
       "      <td>Амурская область</td>\n",
       "      <td>[[[57.027620469529005,120.60627803025531],[57....</td>\n",
       "    </tr>\n",
       "    <tr>\n",
       "      <th>25</th>\n",
       "      <td>Омская область</td>\n",
       "      <td>1</td>\n",
       "      <td>1.25</td>\n",
       "      <td>35</td>\n",
       "      <td>Омская область</td>\n",
       "      <td>[[[58.490998200133134,75.29737959964224],[58.4...</td>\n",
       "    </tr>\n",
       "    <tr>\n",
       "      <th>26</th>\n",
       "      <td>Донецкая Народная Республика</td>\n",
       "      <td>1</td>\n",
       "      <td>1.25</td>\n",
       "      <td>98</td>\n",
       "      <td>Донецкая Народная Республика</td>\n",
       "      <td>[[[37.9765625,49.13134765625],[37.981201171875...</td>\n",
       "    </tr>\n",
       "    <tr>\n",
       "      <th>27</th>\n",
       "      <td>Иркутская область</td>\n",
       "      <td>1</td>\n",
       "      <td>1.25</td>\n",
       "      <td>14</td>\n",
       "      <td>Иркутская область</td>\n",
       "      <td>[[[64.30556479988256,108.45591960010584],[64.3...</td>\n",
       "    </tr>\n",
       "    <tr>\n",
       "      <th>28</th>\n",
       "      <td>Алтайский край</td>\n",
       "      <td>1</td>\n",
       "      <td>1.25</td>\n",
       "      <td>1</td>\n",
       "      <td>Алтайский край</td>\n",
       "      <td>[[[53.4414402393469,86.8377722437813],[53.4915...</td>\n",
       "    </tr>\n",
       "  </tbody>\n",
       "</table>\n",
       "</div>"
      ],
      "text/plain": [
       "                              Регион  Количество  Процент, %  id  \\\n",
       "0                 Пензенская область          12       15.00  38   \n",
       "1                             Москва           8       10.00  28   \n",
       "2                 Краснодарский край           6        7.50  21   \n",
       "3                 Московская область           5        6.25  29   \n",
       "4                  Калужская область           5        6.25  16   \n",
       "5                Кемеровская область           5        6.25  18   \n",
       "6                      Пермский край           4        5.00  39   \n",
       "7                   Липецкая область           4        5.00  26   \n",
       "8   Республика Татарстан (Татарстан)           3        3.75  99   \n",
       "9              Новосибирская область           3        3.75  34   \n",
       "10              Свердловская область           2        2.50  70   \n",
       "11                 Самарская область           2        2.50  66   \n",
       "12               Саратовская область           2        2.50  68   \n",
       "13             Волгоградская область           2        2.50   8   \n",
       "14                   Санкт-Петербург           2        2.50  67   \n",
       "15              Белгородская область           2        2.50   5   \n",
       "16                Тамбовская область           1        1.25  74   \n",
       "17                  Тверская область           1        1.25  75   \n",
       "18                республика Хакасия           1        1.25  61   \n",
       "19                 Красноярский край           1        1.25  22   \n",
       "20                  Хабаровский край           1        1.25  80   \n",
       "21                 Тюменская область           1        1.25  78   \n",
       "22                Мурманская область           1        1.25  30   \n",
       "23               Сахалинская область           1        1.25  69   \n",
       "24                  Амурская область           1        1.25   2   \n",
       "25                    Омская область           1        1.25  35   \n",
       "26      Донецкая Народная Республика           1        1.25  98   \n",
       "27                 Иркутская область           1        1.25  14   \n",
       "28                    Алтайский край           1        1.25   1   \n",
       "\n",
       "                              region  \\\n",
       "0                 Пензенская область   \n",
       "1                             Москва   \n",
       "2                 Краснодарский край   \n",
       "3                 Московская область   \n",
       "4                  Калужская область   \n",
       "5                Кемеровская область   \n",
       "6                      Пермский край   \n",
       "7                   Липецкая область   \n",
       "8   Республика Татарстан (Татарстан)   \n",
       "9              Новосибирская область   \n",
       "10              Свердловская область   \n",
       "11                 Самарская область   \n",
       "12               Саратовская область   \n",
       "13             Волгоградская область   \n",
       "14                   Санкт-Петербург   \n",
       "15              Белгородская область   \n",
       "16                Тамбовская область   \n",
       "17                  Тверская область   \n",
       "18                республика Хакасия   \n",
       "19                 Красноярский край   \n",
       "20                  Хабаровский край   \n",
       "21                 Тюменская область   \n",
       "22                Мурманская область   \n",
       "23               Сахалинская область   \n",
       "24                  Амурская область   \n",
       "25                    Омская область   \n",
       "26      Донецкая Народная Республика   \n",
       "27                 Иркутская область   \n",
       "28                    Алтайский край   \n",
       "\n",
       "                                               coords  \n",
       "0   [[[54.02125290009443,45.96395700014443],[54.01...  \n",
       "1   [[[55.437474200236245,37.505423400232424],[55....  \n",
       "2   [[[46.826136800150955,38.685738699590026],[46....  \n",
       "3   [[[55.44980949998922,37.49815720008871],[55.44...  \n",
       "4   [[[54.39802479978628,33.60958310030351],[54.40...  \n",
       "5   [[[53.49523807596701,86.89818609990009],[53.47...  \n",
       "6   [[[60.223260099883014,52.3278556000364],[60.22...  \n",
       "7   [[[53.583009499908066,39.75874250017173],[53.5...  \n",
       "8   [[[54.85063, 47.313585], [54.850343, 47.315738...  \n",
       "9   [[[57.21549820004833,76.69789469981929],[57.16...  \n",
       "10  [[[61.93689460018422,59.50715339959381],[61.93...  \n",
       "11  [[[54.67642609980043,51.38997859973747],[54.66...  \n",
       "12  [[[52.81440689976361,48.42863240015605],[52.76...  \n",
       "13  [[[51.236738000209975,42.748845399745115],[51....  \n",
       "14  [[[60.17096000020522,29.456615099771334],[60.1...  \n",
       "15  [[[51.43028730004959,37.853398199829165],[51.4...  \n",
       "16  [[[53.81498639985928,42.03448269979637],[53.80...  \n",
       "17  [[[58.838661600134905,37.12891640041302],[58.8...  \n",
       "18  [[[55.43787770021227,88.66892389968086],[55.43...  \n",
       "19  [[[77.36436570001685,108.63862979986564],[77.3...  \n",
       "20  [[[62.52362729999859,140.85427419999883],[62.5...  \n",
       "21  [[[59.92418819983451,69.64384500012874],[59.90...  \n",
       "22  [[[69.82686869991925,33.618783199879104],[69.5...  \n",
       "23  [[[46.4051481123399,142.82388437012776],[46.39...  \n",
       "24  [[[57.027620469529005,120.60627803025531],[57....  \n",
       "25  [[[58.490998200133134,75.29737959964224],[58.4...  \n",
       "26  [[[37.9765625,49.13134765625],[37.981201171875...  \n",
       "27  [[[64.30556479988256,108.45591960010584],[64.3...  \n",
       "28  [[[53.4414402393469,86.8377722437813],[53.4915...  "
      ]
     },
     "execution_count": 60,
     "metadata": {},
     "output_type": "execute_result"
    }
   ],
   "source": [
    "print('Регион\\nОбщее количество заполненных ответов {}\\\n",
    "'.format(regions_stat['Количество'].sum()))\n",
    "# выводим данные по сводной таблице\n",
    "regions_stat"
   ]
  },
  {
   "cell_type": "markdown",
   "id": "5ff5b3eb-44a7-4c97-9c0a-9d0eeda65b17",
   "metadata": {},
   "source": [
    "Сохраним данные в файл `regions_stat.csv` в папку [files](files/regions_stat.csv) "
   ]
  },
  {
   "cell_type": "code",
   "execution_count": 61,
   "id": "4bdadc17-1ac0-4072-8326-13a22323d6e0",
   "metadata": {},
   "outputs": [],
   "source": [
    "# функция для сохранения датафрейма\n",
    "def csv_download_link(df, csv_file_name, delete_prompt=True):\n",
    "    \"\"\"Display a download link to load a data frame as csv from within a Jupyter notebook\"\"\"\n",
    "    df.to_csv(csv_file_name, index=False)\n",
    "    from IPython.display import FileLink\n",
    "    display(FileLink(csv_file_name))\n",
    "    if delete_prompt:\n",
    "        a = input('Press enter to delete the file after you have downloaded it.')\n",
    "        import os\n",
    "        os.remove(csv_file_name)"
   ]
  },
  {
   "cell_type": "code",
   "execution_count": 62,
   "id": "ea0cc7d7-d9b9-43aa-82d9-6c574b5fb569",
   "metadata": {},
   "outputs": [
    {
     "data": {
      "text/html": [
       "<a href='regions_stat.csv' target='_blank'>regions_stat.csv</a><br>"
      ],
      "text/plain": [
       "C:\\Users\\brnat\\github_repos\\Done_tasks\\BI\\regions_stat.csv"
      ]
     },
     "metadata": {},
     "output_type": "display_data"
    },
    {
     "name": "stdin",
     "output_type": "stream",
     "text": [
      "Press enter to delete the file after you have downloaded it. \n"
     ]
    }
   ],
   "source": [
    "csv_download_link(regions_stat, 'regions_stat.csv')"
   ]
  },
  {
   "cell_type": "code",
   "execution_count": null,
   "id": "3b933c55-93d1-4af6-993e-fd64c0995505",
   "metadata": {},
   "outputs": [],
   "source": []
  }
 ],
 "metadata": {
  "kernelspec": {
   "display_name": "Python 3 (ipykernel)",
   "language": "python",
   "name": "python3"
  },
  "language_info": {
   "codemirror_mode": {
    "name": "ipython",
    "version": 3
   },
   "file_extension": ".py",
   "mimetype": "text/x-python",
   "name": "python",
   "nbconvert_exporter": "python",
   "pygments_lexer": "ipython3",
   "version": "3.12.7"
  }
 },
 "nbformat": 4,
 "nbformat_minor": 5
}
